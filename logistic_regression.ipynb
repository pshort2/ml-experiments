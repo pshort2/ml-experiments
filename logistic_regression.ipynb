{
 "cells": [
  {
   "cell_type": "markdown",
   "id": "d93928a0",
   "metadata": {},
   "source": [
    "# Logistic Regression\n",
    "\n",
    "In this notebook we will implement logistic regression on a mock dataset."
   ]
  },
  {
   "cell_type": "code",
   "execution_count": 46,
   "id": "7162106f",
   "metadata": {},
   "outputs": [],
   "source": [
    "import numpy as np\n",
    "import copy, math\n",
    "%matplotlib inline\n",
    "import matplotlib.pyplot as plt"
   ]
  },
  {
   "cell_type": "markdown",
   "id": "63133367",
   "metadata": {},
   "source": [
    "Here we generate the mock data with two features and inspect it on a plot:"
   ]
  },
  {
   "cell_type": "code",
   "execution_count": 53,
   "id": "b74b53ab",
   "metadata": {},
   "outputs": [
    {
     "name": "stdout",
     "output_type": "stream",
     "text": [
      "(8, 2) (8,)\n"
     ]
    },
    {
     "data": {
      "image/png": "[encoded data removed]",
      "text/plain": [
       "<Figure size 360x360 with 1 Axes>"
      ]
     },
     "metadata": {
      "needs_background": "light"
     },
     "output_type": "display_data"
    }
   ],
   "source": [
    "X_train = np.array([[0.5, 1.4], [1,1], [1.5, 0.55], [0.9, 1.1], [2, 1], [3, 0.9], [2, 1.8], [0.75, 2]])\n",
    "y_train = np.array([0, 0, 0, 0, 1, 1, 1, 1])\n",
    "\n",
    "print (X_train.shape, y_train.shape)\n",
    "\n",
    "ones = np.where(y_train == 1)\n",
    "zeros = np.where(y_train == 0)\n",
    "\n",
    "pos = X_train[ones]\n",
    "neg = X_train[zeros]\n",
    "\n",
    "fig = plt.figure(figsize = (5,5))\n",
    "plt.plot(pos[:,0], pos[:,1], '+', ms=12, label=('y=1'))\n",
    "plt.plot(neg[:,0], neg[:,1], 'o', ms=10, label=('y=0'))\n",
    "plt.xlabel(r'$x_0$')\n",
    "plt.ylabel(r'$x_1$')\n",
    "plt.legend()\n",
    "plt.show()"
   ]
  },
  {
   "cell_type": "markdown",
   "id": "deb63bad",
   "metadata": {},
   "source": [
    "From visualising the data we can get an idea of what the decision boundary should look like. Now we will set up a functions to calculate the cost using the sigmoid function."
   ]
  },
  {
   "cell_type": "code",
   "execution_count": 41,
   "id": "79fe86ee",
   "metadata": {},
   "outputs": [],
   "source": [
    "def sigmoid(z):\n",
    "\n",
    "    g = 1/(1+np.exp(-z))\n",
    "   \n",
    "    return g\n",
    "\n",
    "def cost(X, y, w, b):\n",
    "\n",
    "    m = X.shape[0]\n",
    "    cost = 0.0\n",
    "    z = np.dot(X,w) + b\n",
    "    f_wb = sigmoid(z)\n",
    "    cost =  (1/m) * np.sum( -y*np.log(f_wb) - (1-y)*np.log(1-f_wb) )\n",
    "             \n",
    "    cost /= m\n",
    "    \n",
    "    return cost"
   ]
  },
  {
   "cell_type": "code",
   "execution_count": 42,
   "id": "4e6ebaf9",
   "metadata": {},
   "outputs": [
    {
     "data": {
      "text/plain": [
       "0.054252441376898164"
      ]
     },
     "execution_count": 42,
     "metadata": {},
     "output_type": "execute_result"
    }
   ],
   "source": [
    "w_test = np.array([1,1])\n",
    "b_test = -3\n",
    "cost(X_train, y_train, w_test, b_test)"
   ]
  },
  {
   "cell_type": "markdown",
   "id": "39c4cc78",
   "metadata": {},
   "source": [
    "And now a function to calculate the gradient based on:\n",
    "\n",
    "$$\\begin{align*}\n",
    "\\frac{\\partial J(\\mathbf{w},b)}{\\partial w_j}  &= \\frac{1}{m} \\sum\\limits_{i = 0}^{m-1} (f_{\\mathbf{w},b}(\\mathbf{x}^{(i)}) - y^{(i)})x_{j}^{(i)} \\tag{2} \\\\\n",
    "\\frac{\\partial J(\\mathbf{w},b)}{\\partial b}  &= \\frac{1}{m} \\sum\\limits_{i = 0}^{m-1} (f_{\\mathbf{w},b}(\\mathbf{x}^{(i)}) - y^{(i)}) \\tag{3} \n",
    "\\end{align*}$$"
   ]
  },
  {
   "cell_type": "code",
   "execution_count": 50,
   "id": "b42b05a2",
   "metadata": {},
   "outputs": [],
   "source": [
    "def gradient(X, y, w, b): \n",
    "\n",
    "    m = X.shape[0]\n",
    "    dj_dw = np.zeros((n,))                           \n",
    "\n",
    "    z = np.dot(X,w) + b\n",
    "    f_wb = sigmoid(z)          \n",
    "                    \n",
    "    dj_dw = (1/m) * np.dot(f_wb - y, X)\n",
    "    dj_db = (1/m) * np.sum(f_wb - y)\n",
    "                               \n",
    "        \n",
    "    return dj_db, dj_dw  "
   ]
  },
  {
   "cell_type": "markdown",
   "id": "cc765479",
   "metadata": {},
   "source": [
    "And now we're ready for gradient descent using:\n",
    "\n",
    "$$\\begin{align*}\n",
    "&  \\; \\; \\;w_j = w_j -  \\alpha \\frac{\\partial J(\\mathbf{w},b)}{\\partial w_j} \\\\ \n",
    "&  \\; \\; \\;  \\; \\;b = b -  \\alpha \\frac{\\partial J(\\mathbf{w},b)}{\\partial b} \\\\\n",
    "\\end{align*}$$"
   ]
  },
  {
   "cell_type": "code",
   "execution_count": 51,
   "id": "d46f7088",
   "metadata": {},
   "outputs": [],
   "source": [
    "def gradient_descent(X, y, w_in, b_in, alpha, n): \n",
    "\n",
    "    J_history = []\n",
    "    w = copy.deepcopy(w_in)  #avoid modifying global w within function\n",
    "    b = b_in\n",
    "    \n",
    "    for i in range(n):\n",
    "        # Calculate the gradient and update the parameters\n",
    "        dj_db, dj_dw = gradient(X, y, w, b)   \n",
    "\n",
    "        # Update Parameters using w, b, alpha and gradient\n",
    "        w = w - alpha * dj_dw               \n",
    "        b = b - alpha * dj_db               \n",
    "      \n",
    "        # Save cost J at each iteration\n",
    "        if i<100000:      # prevent resource exhaustion \n",
    "            J_history.append(cost(X, y, w, b) )\n",
    "\n",
    "        # Print cost every at intervals 10 times or as many iterations if < 10\n",
    "        if i% math.ceil(n / 10) == 0:\n",
    "            print(f\"Iter {i:4d}: Cost {J_history[-1]}   \")\n",
    "        \n",
    "    return w, b, J_history"
   ]
  },
  {
   "cell_type": "markdown",
   "id": "834bc889",
   "metadata": {},
   "source": [
    "We are now ready to run gradient descent on our data."
   ]
  },
  {
   "cell_type": "code",
   "execution_count": 52,
   "id": "8d2f4a8a",
   "metadata": {},
   "outputs": [
    {
     "name": "stdout",
     "output_type": "stream",
     "text": [
      "Iter    0: Cost 0.08582715137017499   \n",
      "Iter 1000: Cost 0.03189276819872226   \n",
      "Iter 2000: Cost 0.0200214323864756   \n",
      "Iter 3000: Cost 0.014639036293226902   \n",
      "Iter 4000: Cost 0.011532268115977117   \n",
      "Iter 5000: Cost 0.0095032229519182   \n",
      "Iter 6000: Cost 0.008073499454908158   \n",
      "Iter 7000: Cost 0.007012261889761931   \n",
      "Iter 8000: Cost 0.006193875191441649   \n",
      "Iter 9000: Cost 0.005543966013170465   \n",
      "\n",
      "updated params: w:[5.70656948 7.04351575], b:-15.777159449122268\n"
     ]
    }
   ],
   "source": [
    "w_tmp  = np.zeros_like(X_train[0])\n",
    "b_tmp  = 0.\n",
    "alpha = 0.1\n",
    "n = 10000\n",
    "\n",
    "w, b, _ = gradient_descent(X_train, y_train, w_tmp, b_tmp, alpha, n) \n",
    "print(f\"\\nupdated params: w:{w}, b:{b}\")"
   ]
  },
  {
   "cell_type": "code",
   "execution_count": 68,
   "id": "722245a8",
   "metadata": {},
   "outputs": [
    {
     "data": {
      "image/png": "[encoded data removed]",
      "text/plain": [
       "<Figure size 360x360 with 1 Axes>"
      ]
     },
     "metadata": {
      "needs_background": "light"
     },
     "output_type": "display_data"
    }
   ],
   "source": [
    "fig,ax = plt.subplots(1,1,figsize=(5,5))\n",
    "\n",
    "# Plot the data\n",
    "ax.set_xlabel(r'$x_0$')\n",
    "ax.set_ylabel(r'$x_1$')\n",
    "\n",
    "ax.plot(pos[:,0], pos[:,1], '+', ms=12, label=('y=1'))\n",
    "ax.plot(neg[:,0], neg[:,1], 'o', ms=10, label=('y=0'))\n",
    "\n",
    "# Plot the decision boundary\n",
    "x0 = -b/w[0]\n",
    "x1 = -b/w[1]\n",
    "ax.plot([0,x0],[x1,0], lw=2, ls='--', color='k')\n",
    "plt.show()"
   ]
  },
  {
   "cell_type": "code",
   "execution_count": null,
   "id": "368daac8",
   "metadata": {},
   "outputs": [],
   "source": [
    "The decision bound"
   ]
  }
 ],
 "metadata": {
  "kernelspec": {
   "display_name": "Python 3 (ipykernel)",
   "language": "python",
   "name": "python3"
  },
  "language_info": {
   "codemirror_mode": {
    "name": "ipython",
    "version": 3
   },
   "file_extension": ".py",
   "mimetype": "text/x-python",
   "name": "python",
   "nbconvert_exporter": "python",
   "pygments_lexer": "ipython3",
   "version": "3.7.6"
  }
 },
 "nbformat": 4,
 "nbformat_minor": 5
}
