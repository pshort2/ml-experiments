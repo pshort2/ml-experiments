{
 "cells": [
  {
   "cell_type": "markdown",
   "id": "6e25ea49",
   "metadata": {},
   "source": [
    "# Multiclass NN\n",
    "\n",
    "In this notebook we will put together a neural netword and train it on the MNIST dataset."
   ]
  },
  {
   "cell_type": "code",
   "execution_count": 1,
   "id": "8dfd9364",
   "metadata": {},
   "outputs": [
    {
     "name": "stderr",
     "output_type": "stream",
     "text": [
      "2023-07-02 14:53:38.210773: W tensorflow/stream_executor/platform/default/dso_loader.cc:64] Could not load dynamic library 'libcudart.so.11.0'; dlerror: libcudart.so.11.0: cannot open shared object file: No such file or directory; LD_LIBRARY_PATH: /home/phil/MultiNest/lib/:\n",
      "2023-07-02 14:53:38.210799: I tensorflow/stream_executor/cuda/cudart_stub.cc:29] Ignore above cudart dlerror if you do not have a GPU set up on your machine.\n"
     ]
    }
   ],
   "source": [
    "import numpy as np\n",
    "import matplotlib.pyplot as plt\n",
    "%matplotlib inline\n",
    "import common_functions as cf #My library of relevant functions\n",
    "import tensorflow as tf #for loading mnist data\n",
    "from sklearn.model_selection import train_test_split #to split into train/cv/test samples"
   ]
  },
  {
   "cell_type": "markdown",
   "id": "9e6ff755",
   "metadata": {},
   "source": [
    "Load the MNIST data set and split into training and test sets."
   ]
  },
  {
   "cell_type": "code",
   "execution_count": 2,
   "id": "5fae6ada",
   "metadata": {},
   "outputs": [],
   "source": [
    "DATA_URL = 'https://storage.googleapis.com/tensorflow/tf-keras-datasets/mnist.npz'\n",
    "\n",
    "path = tf.keras.utils.get_file('mnist.npz', DATA_URL)\n",
    "with np.load(path) as data:\n",
    "    x = data['x_train']\n",
    "    y = data['y_train']\n",
    "    x_test = data['x_test']\n",
    "    y_test = data['y_test']\n",
    "    \n",
    "#Separate out a cross validation set of the same size as the test set\n",
    "x_train, x_cv, y_train, y_cv = train_test_split(x, y, test_size=(1/6), random_state=1)"
   ]
  },
  {
   "cell_type": "markdown",
   "id": "5dfdfe89",
   "metadata": {},
   "source": [
    "Check sizes of each set:"
   ]
  },
  {
   "cell_type": "code",
   "execution_count": 3,
   "id": "32f70ac9",
   "metadata": {
    "scrolled": true
   },
   "outputs": [
    {
     "name": "stdout",
     "output_type": "stream",
     "text": [
      "(50000, 28, 28) (50000,)\n",
      "(10000, 28, 28) (10000,)\n",
      "(10000, 28, 28) (10000,)\n"
     ]
    }
   ],
   "source": [
    "print (x_train.shape, y_train.shape)\n",
    "print (x_cv.shape, y_cv.shape)\n",
    "print (x_test.shape, y_test.shape)"
   ]
  },
  {
   "cell_type": "markdown",
   "id": "0e533393",
   "metadata": {},
   "source": [
    "Plot some of the data:"
   ]
  },
  {
   "cell_type": "code",
   "execution_count": 4,
   "id": "7e23c57b",
   "metadata": {},
   "outputs": [
    {
     "data": {
      "image/png": "[encoded data removed]",
      "text/plain": [
       "<Figure size 432x288 with 9 Axes>"
      ]
     },
     "metadata": {
      "needs_background": "light"
     },
     "output_type": "display_data"
    }
   ],
   "source": [
    "fig = plt.figure()\n",
    "for i in range(1,10):\n",
    "    fig.add_subplot(3, 3, i)\n",
    "    plt.imshow(x_train[i], cmap=plt.get_cmap('gray'))\n",
    "plt.show()"
   ]
  },
  {
   "cell_type": "code",
   "execution_count": 5,
   "id": "9ed62ee7",
   "metadata": {},
   "outputs": [],
   "source": [
    "#Reshape images into one dimension\n",
    "x_train = x_train.reshape((50000,28*28))\n",
    "x_cv = x_cv.reshape((10000,28*28))\n",
    "x_test = x_test.reshape((10000,28*28))"
   ]
  },
  {
   "cell_type": "markdown",
   "id": "e478ed1c",
   "metadata": {},
   "source": [
    "Now we have the data it's time to put together the learning algortihm. I want to build a neural network with 3 layers with the following number of units in each:\n",
    "Layer 1: 25   \n",
    "Layer 2: 15   \n",
    "Layer 3: 10 (10 classes)   \n",
    "\n",
    "The network is defined below. For the activation (g), we will use RelU for layers 1 and 2, and a linear activation function for layer 3."
   ]
  },
  {
   "cell_type": "code",
   "execution_count": 6,
   "id": "54b2f427",
   "metadata": {},
   "outputs": [],
   "source": [
    "def sequential(x, params):\n",
    "    a1 = cf.my_dense(x,  params[\"W1\"], params[\"b1\"], cf.relu)\n",
    "    a2 = cf.my_dense(a1,  params[\"W2\"], params[\"b2\"], cf.relu)\n",
    "    a3 = cf.my_dense(a2,  params[\"W3\"], params[\"b3\"], cf.softmax)\n",
    "    \n",
    "    return(a3)"
   ]
  },
  {
   "cell_type": "markdown",
   "id": "f2e1d58b",
   "metadata": {},
   "source": [
    "In the next cell we initialise W and b. As the images are 28 x 28 pixels we will have 784 inputs, so the sizes will be as follows:  \n",
    "W1: (784, 25), b1: (25,)  \n",
    "W2: (25, 15), b2: (15,)  \n",
    "W3: (15, 10), b3: (10,)"
   ]
  },
  {
   "cell_type": "code",
   "execution_count": 7,
   "id": "05a1da8c",
   "metadata": {
    "scrolled": true
   },
   "outputs": [],
   "source": [
    "W1 = np.zeros((784,25))\n",
    "b1 = np.zeros((25))\n",
    "\n",
    "W2 = np.zeros((25,15))\n",
    "b2 = np.zeros((15))\n",
    "\n",
    "W3 = np.zeros((15,10))\n",
    "b3 = np.zeros((10))\n",
    "\n",
    "params = {\"W1\": W1, \"b1\": b1, \"W2\": W2, \"b2\": b2, \"W3\": W3, \"b3\": b3}\n",
    "\n",
    "init = sequential(x_train, params) #initial prediction"
   ]
  },
  {
   "cell_type": "markdown",
   "id": "b811d3e2",
   "metadata": {},
   "source": [
    "Next up we will train the model using forward and back propagation."
   ]
  },
  {
   "cell_type": "code",
   "execution_count": 8,
   "id": "013dbe9e",
   "metadata": {},
   "outputs": [
    {
     "name": "stdout",
     "output_type": "stream",
     "text": [
      "Iteration: 0/1000\n"
     ]
    },
    {
     "name": "stderr",
     "output_type": "stream",
     "text": [
      "/home/phil/ML_Practice/ml-experiments/NN/common_functions.py:44: RuntimeWarning: divide by zero encountered in log\n",
      "  cost =  ((1/m) * np.sum( -y[0]*np.log(AL) - (1-y[0])*np.log(1-AL) ))\n",
      "/home/phil/ML_Practice/ml-experiments/NN/common_functions.py:163: RuntimeWarning: divide by zero encountered in true_divide\n",
      "  dAL = -(np.divide(y[0], AL) - np.divide(1 - y[0], 1 - AL))\n"
     ]
    },
    {
     "name": "stdout",
     "output_type": "stream",
     "text": [
      "cost: -inf\n",
      "Iteration: 1/1000\n",
      "cost: nan\n",
      "Iteration: 2/1000\n",
      "cost: nan\n",
      "Iteration: 3/1000\n",
      "cost: nan\n",
      "Iteration: 4/1000\n",
      "cost: nan\n",
      "Iteration: 5/1000\n",
      "cost: nan\n",
      "Iteration: 6/1000\n",
      "cost: nan\n",
      "Iteration: 7/1000\n",
      "cost: nan\n",
      "Iteration: 8/1000\n",
      "cost: nan\n",
      "Iteration: 9/1000\n",
      "cost: nan\n",
      "Iteration: 10/1000\n",
      "cost: nan\n",
      "Iteration: 11/1000\n",
      "cost: nan\n",
      "Iteration: 12/1000\n",
      "cost: nan\n",
      "Iteration: 13/1000\n",
      "cost: nan\n",
      "Iteration: 14/1000\n",
      "cost: nan\n",
      "Iteration: 15/1000\n",
      "cost: nan\n",
      "Iteration: 16/1000\n",
      "cost: nan\n",
      "Iteration: 17/1000\n",
      "cost: nan\n",
      "Iteration: 18/1000\n",
      "cost: nan\n",
      "Iteration: 19/1000\n",
      "cost: nan\n",
      "Iteration: 20/1000\n",
      "cost: nan\n",
      "Iteration: 21/1000\n",
      "cost: nan\n"
     ]
    },
    {
     "ename": "KeyboardInterrupt",
     "evalue": "",
     "output_type": "error",
     "traceback": [
      "\u001b[0;31m---------------------------------------------------------------------------\u001b[0m",
      "\u001b[0;31mKeyboardInterrupt\u001b[0m                         Traceback (most recent call last)",
      "\u001b[0;32m/tmp/ipykernel_22681/1920725144.py\u001b[0m in \u001b[0;36m<module>\u001b[0;34m\u001b[0m\n\u001b[1;32m      2\u001b[0m \u001b[0mnum_iterations\u001b[0m \u001b[0;34m=\u001b[0m \u001b[0;36m1000\u001b[0m\u001b[0;34m\u001b[0m\u001b[0;34m\u001b[0m\u001b[0m\n\u001b[1;32m      3\u001b[0m \u001b[0;34m\u001b[0m\u001b[0m\n\u001b[0;32m----> 4\u001b[0;31m \u001b[0mparameters\u001b[0m \u001b[0;34m=\u001b[0m \u001b[0mcf\u001b[0m\u001b[0;34m.\u001b[0m\u001b[0mtrain_nn\u001b[0m\u001b[0;34m(\u001b[0m\u001b[0mx_train\u001b[0m\u001b[0;34m,\u001b[0m \u001b[0my_train\u001b[0m\u001b[0;34m,\u001b[0m \u001b[0mparams\u001b[0m\u001b[0;34m,\u001b[0m \u001b[0mlearning_rate\u001b[0m\u001b[0;34m,\u001b[0m \u001b[0mnum_iterations\u001b[0m\u001b[0;34m)\u001b[0m\u001b[0;34m\u001b[0m\u001b[0;34m\u001b[0m\u001b[0m\n\u001b[0m",
      "\u001b[0;32m~/ML_Practice/ml-experiments/NN/common_functions.py\u001b[0m in \u001b[0;36mtrain_nn\u001b[0;34m(X, y, params, alpha, n)\u001b[0m\n\u001b[1;32m    219\u001b[0m                 \u001b[0mprint\u001b[0m \u001b[0;34m(\u001b[0m\u001b[0;34m\"cost:\"\u001b[0m\u001b[0;34m,\u001b[0m \u001b[0mcost\u001b[0m\u001b[0;34m)\u001b[0m\u001b[0;34m\u001b[0m\u001b[0;34m\u001b[0m\u001b[0m\n\u001b[1;32m    220\u001b[0m \u001b[0;34m\u001b[0m\u001b[0m\n\u001b[0;32m--> 221\u001b[0;31m                 \u001b[0mgrads\u001b[0m \u001b[0;34m=\u001b[0m \u001b[0mbackward_prop\u001b[0m\u001b[0;34m(\u001b[0m\u001b[0mAL\u001b[0m\u001b[0;34m,\u001b[0m \u001b[0my\u001b[0m\u001b[0;34m,\u001b[0m \u001b[0moutputs\u001b[0m\u001b[0;34m)\u001b[0m\u001b[0;34m\u001b[0m\u001b[0;34m\u001b[0m\u001b[0m\n\u001b[0m\u001b[1;32m    222\u001b[0m                 \u001b[0mparams\u001b[0m \u001b[0;34m=\u001b[0m \u001b[0mupdate_params\u001b[0m\u001b[0;34m(\u001b[0m\u001b[0mparams\u001b[0m\u001b[0;34m,\u001b[0m \u001b[0mgrads\u001b[0m\u001b[0;34m,\u001b[0m \u001b[0malpha\u001b[0m\u001b[0;34m)\u001b[0m\u001b[0;34m\u001b[0m\u001b[0;34m\u001b[0m\u001b[0m\n\u001b[1;32m    223\u001b[0m \u001b[0;34m\u001b[0m\u001b[0m\n",
      "\u001b[0;32m~/ML_Practice/ml-experiments/NN/common_functions.py\u001b[0m in \u001b[0;36mbackward_prop\u001b[0;34m(AL, y, outputs)\u001b[0m\n\u001b[1;32m    179\u001b[0m                 \u001b[0mdZ\u001b[0m \u001b[0;34m[\u001b[0m\u001b[0mZ\u001b[0m \u001b[0;34m<=\u001b[0m \u001b[0;36m0\u001b[0m\u001b[0;34m]\u001b[0m     \u001b[0;31m#set gradients to 0 where Z <= 0 for the relu derivative\u001b[0m\u001b[0;34m\u001b[0m\u001b[0;34m\u001b[0m\u001b[0m\n\u001b[1;32m    180\u001b[0m \u001b[0;34m\u001b[0m\u001b[0m\n\u001b[0;32m--> 181\u001b[0;31m                 \u001b[0mgrads\u001b[0m\u001b[0;34m[\u001b[0m\u001b[0;34m'dW'\u001b[0m \u001b[0;34m+\u001b[0m \u001b[0mstr\u001b[0m\u001b[0;34m(\u001b[0m\u001b[0ml\u001b[0m \u001b[0;34m+\u001b[0m \u001b[0;36m1\u001b[0m\u001b[0;34m)\u001b[0m\u001b[0;34m]\u001b[0m \u001b[0;34m=\u001b[0m \u001b[0;34m(\u001b[0m\u001b[0mnp\u001b[0m\u001b[0;34m.\u001b[0m\u001b[0mdot\u001b[0m\u001b[0;34m(\u001b[0m\u001b[0mdZ\u001b[0m\u001b[0;34m.\u001b[0m\u001b[0mT\u001b[0m\u001b[0;34m,\u001b[0m \u001b[0mA_prev\u001b[0m\u001b[0;34m)\u001b[0m \u001b[0;34m/\u001b[0m \u001b[0mm\u001b[0m\u001b[0;34m)\u001b[0m\u001b[0;34m.\u001b[0m\u001b[0mT\u001b[0m\u001b[0;34m\u001b[0m\u001b[0;34m\u001b[0m\u001b[0m\n\u001b[0m\u001b[1;32m    182\u001b[0m                 \u001b[0mgrads\u001b[0m\u001b[0;34m[\u001b[0m\u001b[0;34m'db'\u001b[0m \u001b[0;34m+\u001b[0m \u001b[0mstr\u001b[0m\u001b[0;34m(\u001b[0m\u001b[0ml\u001b[0m \u001b[0;34m+\u001b[0m \u001b[0;36m1\u001b[0m\u001b[0;34m)\u001b[0m\u001b[0;34m]\u001b[0m \u001b[0;34m=\u001b[0m \u001b[0mnp\u001b[0m\u001b[0;34m.\u001b[0m\u001b[0msum\u001b[0m\u001b[0;34m(\u001b[0m\u001b[0mdZ\u001b[0m\u001b[0;34m,\u001b[0m \u001b[0maxis\u001b[0m\u001b[0;34m=\u001b[0m\u001b[0;36m0\u001b[0m\u001b[0;34m,\u001b[0m \u001b[0mkeepdims\u001b[0m\u001b[0;34m=\u001b[0m\u001b[0;32mTrue\u001b[0m\u001b[0;34m)\u001b[0m \u001b[0;34m/\u001b[0m \u001b[0mm\u001b[0m\u001b[0;34m\u001b[0m\u001b[0;34m\u001b[0m\u001b[0m\n\u001b[1;32m    183\u001b[0m \u001b[0;34m\u001b[0m\u001b[0m\n",
      "\u001b[0;32m<__array_function__ internals>\u001b[0m in \u001b[0;36mdot\u001b[0;34m(*args, **kwargs)\u001b[0m\n",
      "\u001b[0;31mKeyboardInterrupt\u001b[0m: "
     ]
    }
   ],
   "source": [
    "learning_rate = 0.01\n",
    "num_iterations = 1000\n",
    "\n",
    "parameters = cf.train_nn(x_train, y_train, params, learning_rate, num_iterations)"
   ]
  },
  {
   "cell_type": "code",
   "execution_count": null,
   "id": "81aa4f2f",
   "metadata": {},
   "outputs": [],
   "source": []
  }
 ],
 "metadata": {
  "kernelspec": {
   "display_name": "Python 3 (ipykernel)",
   "language": "python",
   "name": "python3"
  },
  "language_info": {
   "codemirror_mode": {
    "name": "ipython",
    "version": 3
   },
   "file_extension": ".py",
   "mimetype": "text/x-python",
   "name": "python",
   "nbconvert_exporter": "python",
   "pygments_lexer": "ipython3",
   "version": "3.7.6"
  }
 },
 "nbformat": 4,
 "nbformat_minor": 5
}
