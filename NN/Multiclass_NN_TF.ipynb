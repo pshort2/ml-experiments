{
 "cells": [
  {
   "cell_type": "code",
   "execution_count": 1,
   "id": "50c6e449",
   "metadata": {},
   "outputs": [
    {
     "name": "stderr",
     "output_type": "stream",
     "text": [
      "2023-07-05 18:51:16.915536: W tensorflow/stream_executor/platform/default/dso_loader.cc:64] Could not load dynamic library 'libcudart.so.11.0'; dlerror: libcudart.so.11.0: cannot open shared object file: No such file or directory; LD_LIBRARY_PATH: /home/phil/MultiNest/lib/:\n",
      "2023-07-05 18:51:16.915571: I tensorflow/stream_executor/cuda/cudart_stub.cc:29] Ignore above cudart dlerror if you do not have a GPU set up on your machine.\n"
     ]
    }
   ],
   "source": [
    "import numpy as np\n",
    "import matplotlib.pyplot as plt\n",
    "import common_functions as cf #My library of relevant functions\n",
    "import tensorflow as tf #for loading mnist data\n",
    "from tensorflow.keras.models import Sequential\n",
    "from tensorflow.keras.layers import Dense\n",
    "from sklearn.model_selection import train_test_split #to split into train/cv/test samples"
   ]
  },
  {
   "cell_type": "markdown",
   "id": "4cf8ee11",
   "metadata": {},
   "source": [
    "Load the data:"
   ]
  },
  {
   "cell_type": "code",
   "execution_count": 4,
   "id": "425c8cd8",
   "metadata": {},
   "outputs": [],
   "source": [
    "DATA_URL = 'https://storage.googleapis.com/tensorflow/tf-keras-datasets/mnist.npz'\n",
    "\n",
    "path = tf.keras.utils.get_file('mnist.npz', DATA_URL)\n",
    "with np.load(path) as data:\n",
    "    x = data['x_train']\n",
    "    y = data['y_train']\n",
    "    x_test = data['x_test']\n",
    "    y_test = data['y_test']"
   ]
  },
  {
   "cell_type": "markdown",
   "id": "b0b26c66",
   "metadata": {},
   "source": [
    "Separate into training, cv and test"
   ]
  },
  {
   "cell_type": "code",
   "execution_count": 5,
   "id": "d7874454",
   "metadata": {},
   "outputs": [],
   "source": [
    "x_train, x_cv, y_train, y_cv = train_test_split(x, y, test_size=(1/6), random_state=1)"
   ]
  },
  {
   "cell_type": "markdown",
   "id": "365fc026",
   "metadata": {},
   "source": [
    "Re-shape"
   ]
  },
  {
   "cell_type": "code",
   "execution_count": 6,
   "id": "30a175bb",
   "metadata": {},
   "outputs": [],
   "source": [
    "x_train = x_train.reshape((50000,28*28))\n",
    "x_cv = x_cv.reshape((10000,28*28))\n",
    "x_test = x_test.reshape((10000,28*28))"
   ]
  },
  {
   "cell_type": "markdown",
   "id": "2527c50c",
   "metadata": {},
   "source": [
    "Set up the model"
   ]
  },
  {
   "cell_type": "code",
   "execution_count": 11,
   "id": "bf3abc12",
   "metadata": {},
   "outputs": [],
   "source": [
    "tf.random.set_seed(1234)  # applied to achieve consistent results\n",
    "model = Sequential(\n",
    "    [\n",
    "        Dense(25, activation = 'relu',   name = \"L1\"),\n",
    "        Dense(15, activation = 'relu', name = \"L2\"),\n",
    "        Dense(10, activation = 'linear', name = \"L3\")\n",
    "    ]\n",
    ")\n",
    "\n",
    "model.compile(\n",
    "    loss=tf.keras.losses.SparseCategoricalCrossentropy(from_logits=True),\n",
    "    optimizer=tf.keras.optimizers.Adam(0.001),\n",
    ")"
   ]
  },
  {
   "cell_type": "markdown",
   "id": "3cc283c6",
   "metadata": {},
   "source": [
    "Train the model"
   ]
  },
  {
   "cell_type": "code",
   "execution_count": null,
   "id": "3790f585",
   "metadata": {},
   "outputs": [
    {
     "name": "stdout",
     "output_type": "stream",
     "text": [
      "Epoch 1/1000\n",
      "1563/1563 [==============================] - 3s 2ms/step - loss: 2.4396\n",
      "Epoch 2/1000\n",
      "1563/1563 [==============================] - 3s 2ms/step - loss: 1.3397\n",
      "Epoch 3/1000\n",
      "1563/1563 [==============================] - 3s 2ms/step - loss: 0.9921\n",
      "Epoch 4/1000\n",
      "1563/1563 [==============================] - 3s 2ms/step - loss: 0.6688\n",
      "Epoch 5/1000\n",
      "1563/1563 [==============================] - 3s 2ms/step - loss: 0.5115\n",
      "Epoch 6/1000\n",
      "1563/1563 [==============================] - 3s 2ms/step - loss: 0.4542\n",
      "Epoch 7/1000\n",
      "1563/1563 [==============================] - 3s 2ms/step - loss: 0.4238\n",
      "Epoch 8/1000\n",
      "1563/1563 [==============================] - 3s 2ms/step - loss: 0.4049\n",
      "Epoch 9/1000\n",
      "1563/1563 [==============================] - 3s 2ms/step - loss: 0.3928\n",
      "Epoch 10/1000\n",
      "1563/1563 [==============================] - 3s 2ms/step - loss: 0.3787\n",
      "Epoch 11/1000\n",
      " 221/1563 [===>..........................] - ETA: 2s - loss: 0.3602"
     ]
    }
   ],
   "source": [
    "model.fit(\n",
    "    x_train,y_train,\n",
    "    epochs=1000\n",
    ")"
   ]
  },
  {
   "cell_type": "code",
   "execution_count": null,
   "id": "66474cc1",
   "metadata": {},
   "outputs": [],
   "source": []
  }
 ],
 "metadata": {
  "kernelspec": {
   "display_name": "Python 3 (ipykernel)",
   "language": "python",
   "name": "python3"
  },
  "language_info": {
   "codemirror_mode": {
    "name": "ipython",
    "version": 3
   },
   "file_extension": ".py",
   "mimetype": "text/x-python",
   "name": "python",
   "nbconvert_exporter": "python",
   "pygments_lexer": "ipython3",
   "version": "3.7.6"
  }
 },
 "nbformat": 4,
 "nbformat_minor": 5
}
