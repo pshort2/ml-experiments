{
 "cells": [
  {
   "cell_type": "markdown",
   "id": "ab0fbf75",
   "metadata": {},
   "source": [
    "# Classifying Shapes\n",
    "\n",
    "In this notebook I build a convolutional neural network using PyTorch and train it to classify images of circles, squares and triangles. Whilst writing this I am learning to build machine learning models on Microsoft Azure and this notebook is based on examples from that course. The purpose for my benefit is to get more familiar with using PyTorch."
   ]
  },
  {
   "cell_type": "code",
   "execution_count": 1,
   "id": "19274924",
   "metadata": {},
   "outputs": [
    {
     "name": "stdout",
     "output_type": "stream",
     "text": [
      "Libraries imported - ready to use PyTorch 1.9.0+cpu\n"
     ]
    }
   ],
   "source": [
    "# Import necessary libraries\n",
    "import numpy as np\n",
    "import os\n",
    "import matplotlib.pyplot as plt\n",
    "import matplotlib.image as mpimg\n",
    "%matplotlib inline\n",
    "\n",
    "import torch\n",
    "import torchvision\n",
    "import torchvision.transforms as transforms\n",
    "import torch.nn as nn\n",
    "import torch.optim as optim\n",
    "from torch.autograd import Variable\n",
    "import torch.nn.functional as F\n",
    "\n",
    "print(\"Libraries imported - ready to use PyTorch\", torch.__version__)"
   ]
  },
  {
   "cell_type": "markdown",
   "id": "ee710976",
   "metadata": {},
   "source": [
    "## Data Exploration\n",
    "\n",
    "With the necessary packages imported we can explore the data by examining the classes and plotting some examples."
   ]
  },
  {
   "cell_type": "code",
   "execution_count": 7,
   "id": "dca8a7a8",
   "metadata": {},
   "outputs": [
    {
     "name": "stdout",
     "output_type": "stream",
     "text": [
      "3 classes:\n",
      "['circle', 'square', 'triangle']\n"
     ]
    },
    {
     "data": {
      "image/png": "[encoded data removed]",
      "text/plain": [
       "<Figure size 720x720 with 3 Axes>"
      ]
     },
     "metadata": {
      "needs_background": "light"
     },
     "output_type": "display_data"
    }
   ],
   "source": [
    "#Use the names of the directories as the class names\n",
    "data_path = 'data/shapes'\n",
    "classes = os.listdir(data_path)\n",
    "classes.sort()\n",
    "print(len(classes), 'classes:')\n",
    "print(classes)\n",
    "\n",
    "#Plot an example from each class\n",
    "fig = plt.figure(figsize=(10, 10))\n",
    "i = 0\n",
    "for sub_dir in os.listdir(data_path):\n",
    "    i+=1\n",
    "    image_file_name = os.listdir(os.path.join(data_path,sub_dir))[0]\n",
    "    image_path = os.path.join(data_path, sub_dir, image_file_name)\n",
    "    img = mpimg.imread(image_path)\n",
    "    a=fig.add_subplot(1, len(classes),i)\n",
    "    imgplot = plt.imshow(img)\n",
    "    a.set_title(image_file_name)\n",
    "plt.show()"
   ]
  },
  {
   "cell_type": "markdown",
   "id": "8959f9ae",
   "metadata": {},
   "source": [
    "## Preparing the Data\n",
    "\n",
    "Now we will define a function that makes use of PyTorch's loading functions. The images need to be transformed into tensors to be used by PyTorch. We can also use this as an opportunity for feature scaling, and will scale the pixel values to have a mean of 0.5 and standard deviation also of 0.5."
   ]
  },
  {
   "cell_type": "code",
   "execution_count": 8,
   "id": "dbda18f2",
   "metadata": {},
   "outputs": [
    {
     "name": "stdout",
     "output_type": "stream",
     "text": [
      "Data loading functions ready\n"
     ]
    }
   ],
   "source": [
    "# Function to ingest data using training and test loaders\n",
    "def load_dataset(data_path):\n",
    "    # Load all of the images\n",
    "    transformation = transforms.Compose([\n",
    "        #transform the images to tensors\n",
    "        transforms.ToTensor(),\n",
    "        #Normalise the pixel values (in R, G, and B channels)\n",
    "        transforms.Normalize(mean=[0.5, 0.5, 0.5], std=[0.5, 0.5, 0.5])\n",
    "    ])\n",
    "\n",
    "    #Load all of the images, transforming them\n",
    "    full_dataset = torchvision.datasets.ImageFolder(\n",
    "        root=data_path,\n",
    "        transform=transformation\n",
    "    )\n",
    "    \n",
    "    \n",
    "    #Split into training (70%) and test (30%) datasets\n",
    "    train_size = int(0.7 * len(full_dataset))\n",
    "    test_size = len(full_dataset) - train_size\n",
    "    train_dataset, test_dataset = torch.utils.data.random_split(full_dataset, [train_size, test_size])\n",
    "    \n",
    "    #define a loader for the training data we can iterate through in 50-image batches\n",
    "    train_loader = torch.utils.data.DataLoader(\n",
    "        train_dataset,\n",
    "        batch_size=50,\n",
    "        num_workers=0,\n",
    "        shuffle=False\n",
    "    )\n",
    "    \n",
    "    #now the same for the test data\n",
    "    test_loader = torch.utils.data.DataLoader(\n",
    "        test_dataset,\n",
    "        batch_size=50,\n",
    "        num_workers=0,\n",
    "        shuffle=False\n",
    "    )\n",
    "        \n",
    "    return train_loader, test_loader\n",
    "\n",
    "\n",
    "#Call the loading functions\n",
    "train_loader, test_loader = load_dataset(data_path)\n",
    "print('Data loading functions ready')"
   ]
  },
  {
   "cell_type": "markdown",
   "id": "d6fbb500",
   "metadata": {},
   "source": [
    "## Define the CNN\n",
    "\n",
    "Now we will define the neural network model as a class derived from PyTorch's nn.Module class. In the CNN model, the \\textbf{kernal_size} parameter determines the size of the convolutional kernel or filter, \\textbf{stride} determines the step size or the number of pixels the kernel moves at each step during the convolution operation and \\textbf{padding} is used to preserve the spatial dimensions of the input after convolution."
   ]
  },
  {
   "cell_type": "code",
   "execution_count": 12,
   "id": "607fac8b",
   "metadata": {},
   "outputs": [],
   "source": [
    "class Neural_Net(nn.Module):\n",
    "    #construct the network\n",
    "    def __init__(self, num_classes=3):\n",
    "        #initialize the attributes of the parent class\n",
    "        super(Neural_Net, self).__init__()\n",
    "        \n",
    "        #As the images are RGB, we need 3 input channels. We'll apply 12 filters in the first convolutional layer\n",
    "        self.conv1 = nn.Conv2d(in_channels=3, out_channels=12, kernel_size=3, stride=1, padding=1)\n",
    "        \n",
    "        #We'll apply max pooling to pick out the most prominent features, using a kernel size of 2.\n",
    "        self.pool = nn.MaxPool2d(kernel_size=2)\n",
    "        \n",
    "        #The next layer will take 12 input channels and generate 12 outputs, using a kernal size of 3.\n",
    "        self.conv2 = nn.Conv2d(in_channels=12, out_channels=12, kernel_size=3, stride=1, padding=1)\n",
    "        \n",
    "        #We'll add a third layer that takes 12 inputs and this time generate 24 outputs\n",
    "        self.conv3 = nn.Conv2d(in_channels=12, out_channels=24, kernel_size=3, stride=1, padding=1)\n",
    "        \n",
    "        #The drop layer deletes 20% of the features which helps prevent overfitting\n",
    "        self.drop = nn.Dropout2d(p=0.2)\n",
    "        \n",
    "        # Our 128x128 image tensors will be pooled twice with a kernel size of 2. 128/2/2 is 32.\n",
    "        # So our feature tensors are now 32 x 32, and we've generated 24 of them\n",
    "        # We need to flatten these and feed them to a fully-connected layer\n",
    "        # to map them to the probability for each class\n",
    "        self.fc = nn.Linear(in_features=32 * 32 * 24, out_features=num_classes)\n",
    "\n",
    "    def forward(self, x):\n",
    "        # Use a relu activation function after layer 1 (convolution 1 and pool)\n",
    "        x = F.relu(self.pool(self.conv1(x)))\n",
    "      \n",
    "        # Use a relu activation function after layer 2 (convolution 2 and pool)\n",
    "        x = F.relu(self.pool(self.conv2(x)))\n",
    "        \n",
    "        # Select some features to drop after the 3rd convolution to prevent overfitting\n",
    "        x = F.relu(self.drop(self.conv3(x)))\n",
    "        \n",
    "        # Only drop the features if this is a training pass\n",
    "        x = F.dropout(x, training=self.training)\n",
    "        \n",
    "        # Flatten\n",
    "        x = x.view(-1, 32 * 32 * 24)\n",
    "        # Feed to fully-connected layer to predict class\n",
    "        x = self.fc(x)\n",
    "        # Return log_softmax tensor \n",
    "        return F.log_softmax(x, dim=1)"
   ]
  },
  {
   "cell_type": "markdown",
   "id": "e31b311a",
   "metadata": {},
   "source": [
    "## Train the model\n",
    "\n",
    "Now the CNN is defined we can train it on the shape data. We'll use the test sample to track the loss with each epoch. The machine I am currently using does not have a GPU so will take time to train, but a check will be included so that it can be run on a GPU if present for future runs."
   ]
  },
  {
   "cell_type": "code",
   "execution_count": 13,
   "id": "8e138790",
   "metadata": {},
   "outputs": [
    {
     "name": "stdout",
     "output_type": "stream",
     "text": [
      "Training on cpu\n",
      "Epoch: 1\n",
      "Training set [0/840 (0%)] Loss: 1.093195\n"
     ]
    },
    {
     "name": "stderr",
     "output_type": "stream",
     "text": [
      "/home/phil/anaconda3/lib/python3.7/site-packages/torch/nn/functional.py:718: UserWarning: Named tensors and all their associated APIs are an experimental feature and subject to change. Please do not use them for anything important until they are released as stable. (Triggered internally at  /pytorch/c10/core/TensorImpl.h:1156.)\n",
      "  return torch.max_pool2d(input, kernel_size, stride, padding, dilation, ceil_mode)\n"
     ]
    },
    {
     "name": "stdout",
     "output_type": "stream",
     "text": [
      "Training set [500/840 (59%)] Loss: 0.968049\n",
      "Training set: Average loss: 0.972940\n",
      "Validation set: Average loss: 0.586700, Accuracy: 266/360 (74%)\n",
      "\n",
      "Epoch: 2\n",
      "Training set [0/840 (0%)] Loss: 0.585752\n",
      "Training set [500/840 (59%)] Loss: 0.411508\n",
      "Training set: Average loss: 0.426604\n",
      "Validation set: Average loss: 0.316492, Accuracy: 290/360 (81%)\n",
      "\n",
      "Epoch: 3\n",
      "Training set [0/840 (0%)] Loss: 0.256854\n",
      "Training set [500/840 (59%)] Loss: 0.337093\n",
      "Training set: Average loss: 0.244400\n",
      "Validation set: Average loss: 0.182144, Accuracy: 334/360 (93%)\n",
      "\n",
      "Epoch: 4\n",
      "Training set [0/840 (0%)] Loss: 0.159111\n",
      "Training set [500/840 (59%)] Loss: 0.120119\n",
      "Training set: Average loss: 0.147431\n",
      "Validation set: Average loss: 0.066065, Accuracy: 356/360 (99%)\n",
      "\n",
      "Epoch: 5\n",
      "Training set [0/840 (0%)] Loss: 0.093368\n",
      "Training set [500/840 (59%)] Loss: 0.060568\n",
      "Training set: Average loss: 0.055997\n",
      "Validation set: Average loss: 0.029302, Accuracy: 359/360 (100%)\n",
      "\n",
      "Epoch: 6\n",
      "Training set [0/840 (0%)] Loss: 0.024846\n",
      "Training set [500/840 (59%)] Loss: 0.044708\n",
      "Training set: Average loss: 0.028402\n",
      "Validation set: Average loss: 0.015801, Accuracy: 359/360 (100%)\n",
      "\n",
      "Epoch: 7\n",
      "Training set [0/840 (0%)] Loss: 0.009923\n",
      "Training set [500/840 (59%)] Loss: 0.014851\n",
      "Training set: Average loss: 0.019490\n",
      "Validation set: Average loss: 0.009290, Accuracy: 360/360 (100%)\n",
      "\n",
      "Epoch: 8\n",
      "Training set [0/840 (0%)] Loss: 0.010509\n",
      "Training set [500/840 (59%)] Loss: 0.012252\n",
      "Training set: Average loss: 0.014078\n",
      "Validation set: Average loss: 0.011141, Accuracy: 359/360 (100%)\n",
      "\n",
      "Epoch: 9\n",
      "Training set [0/840 (0%)] Loss: 0.006387\n",
      "Training set [500/840 (59%)] Loss: 0.041379\n",
      "Training set: Average loss: 0.014287\n",
      "Validation set: Average loss: 0.005581, Accuracy: 360/360 (100%)\n",
      "\n",
      "Epoch: 10\n",
      "Training set [0/840 (0%)] Loss: 0.004400\n",
      "Training set [500/840 (59%)] Loss: 0.006389\n",
      "Training set: Average loss: 0.011526\n",
      "Validation set: Average loss: 0.003455, Accuracy: 360/360 (100%)\n",
      "\n"
     ]
    }
   ],
   "source": [
    "def train(model, device, train_loader, optimizer, epoch):\n",
    "    #Set the model to training mode\n",
    "    model.train()\n",
    "    #Initiate the training loss\n",
    "    train_loss = 0\n",
    "    print(\"Epoch:\", epoch)\n",
    "    # Process the images in batches\n",
    "    for batch_idx, (data, target) in enumerate(train_loader):\n",
    "        # Use the CPU or GPU as appropriate\n",
    "        data, target = data.to(device), target.to(device)\n",
    "        \n",
    "        # Reset the optimizer\n",
    "        optimizer.zero_grad()\n",
    "        \n",
    "        # Push the data forward through the model layers\n",
    "        output = model(data)\n",
    "        \n",
    "        # Get the loss\n",
    "        loss = loss_criteria(output, target)\n",
    "        \n",
    "        # Keep a running total\n",
    "        train_loss += loss.item()\n",
    "        \n",
    "        # Backpropagate\n",
    "        loss.backward()\n",
    "        optimizer.step()\n",
    "        \n",
    "        # Print metrics for every 10 batches so we see some progress\n",
    "        if batch_idx % 10 == 0:\n",
    "            print('Training set [{}/{} ({:.0f}%)] Loss: {:.6f}'.format(\n",
    "                batch_idx * len(data), len(train_loader.dataset),\n",
    "                100. * batch_idx / len(train_loader), loss.item()))\n",
    "            \n",
    "    # return average loss for the epoch\n",
    "    avg_loss = train_loss / (batch_idx+1)\n",
    "    print('Training set: Average loss: {:.6f}'.format(avg_loss))\n",
    "    return avg_loss\n",
    "            \n",
    "            \n",
    "def test(model, device, test_loader):\n",
    "    # Switch the model to evaluation mode (so we don't backpropagate or drop)\n",
    "    model.eval()\n",
    "    test_loss = 0\n",
    "    correct = 0\n",
    "    with torch.no_grad():\n",
    "        batch_count = 0\n",
    "        for data, target in test_loader:\n",
    "            batch_count += 1\n",
    "            data, target = data.to(device), target.to(device)\n",
    "            \n",
    "            # Get the predicted classes for this batch\n",
    "            output = model(data)\n",
    "            \n",
    "            # Calculate the loss for this batch\n",
    "            test_loss += loss_criteria(output, target).item()\n",
    "            \n",
    "            # Calculate the accuracy for this batch\n",
    "            _, predicted = torch.max(output.data, 1)\n",
    "            correct += torch.sum(target==predicted).item()\n",
    "\n",
    "    # Calculate the average loss and total accuracy for this epoch\n",
    "    avg_loss = test_loss/batch_count\n",
    "    print('Validation set: Average loss: {:.6f}, Accuracy: {}/{} ({:.0f}%)\\n'.format(\n",
    "        avg_loss, correct, len(test_loader.dataset),\n",
    "        100. * correct / len(test_loader.dataset)))\n",
    "    \n",
    "    # return average loss for the epoch\n",
    "    return avg_loss\n",
    "    \n",
    "    \n",
    "# Now use the train and test functions to train and test the model    \n",
    "device = \"cpu\"\n",
    "if (torch.cuda.is_available()):\n",
    "    # if GPU available, use cuda \n",
    "    device = \"cuda\"\n",
    "print('Training on', device)\n",
    "\n",
    "# Create an instance of the model class and allocate it to the device\n",
    "model = Neural_Net(num_classes=len(classes)).to(device)\n",
    "\n",
    "# Use an \"Adam\" optimizer to adjust weights\n",
    "optimizer = optim.Adam(model.parameters(), lr=0.001)\n",
    "\n",
    "# Specify the loss criteria\n",
    "loss_criteria = nn.CrossEntropyLoss()\n",
    "\n",
    "# Track metrics in these arrays\n",
    "epoch_nums = []\n",
    "training_loss = []\n",
    "validation_loss = []\n",
    "\n",
    "epochs = 10\n",
    "for epoch in range(1, epochs + 1):\n",
    "        train_loss = train(model, device, train_loader, optimizer, epoch)\n",
    "        test_loss = test(model, device, test_loader)\n",
    "        epoch_nums.append(epoch)\n",
    "        training_loss.append(train_loss)\n",
    "        validation_loss.append(test_loss)"
   ]
  },
  {
   "cell_type": "markdown",
   "id": "7749a2cd",
   "metadata": {},
   "source": [
    "## View the loss history\n",
    "\n",
    "Plot the training and test data verify the loss has decreased over each epoch and to detect the presence of any overfitting."
   ]
  },
  {
   "cell_type": "code",
   "execution_count": 15,
   "id": "7ecbde02",
   "metadata": {},
   "outputs": [
    {
     "data": {
      "image/png": "[encoded data removed]",
      "text/plain": [
       "<Figure size 432x288 with 1 Axes>"
      ]
     },
     "metadata": {
      "needs_background": "light"
     },
     "output_type": "display_data"
    }
   ],
   "source": [
    "%matplotlib inline\n",
    "from matplotlib import pyplot as plt\n",
    "\n",
    "plt.plot(epoch_nums, training_loss)\n",
    "plt.plot(epoch_nums, validation_loss)\n",
    "plt.xlabel('epoch')\n",
    "plt.ylabel('loss')\n",
    "plt.legend(['training', 'test'], loc='upper right')\n",
    "plt.show()"
   ]
  },
  {
   "cell_type": "markdown",
   "id": "7d06fb9f",
   "metadata": {},
   "source": [
    "## Evaluate model performance\n",
    "\n",
    "It looks like the model has converged nicely for both the training and test data! Let's explore the performance metrics in more detail. We will create a confusion matrix to see how well the model has predicted each class."
   ]
  },
  {
   "cell_type": "code",
   "execution_count": 16,
   "id": "ea38ec56",
   "metadata": {},
   "outputs": [
    {
     "name": "stdout",
     "output_type": "stream",
     "text": [
      "Getting predictions from test set...\n"
     ]
    },
    {
     "data": {
      "image/png": "[encoded data removed]",
      "text/plain": [
       "<Figure size 432x288 with 2 Axes>"
      ]
     },
     "metadata": {
      "needs_background": "light"
     },
     "output_type": "display_data"
    }
   ],
   "source": [
    "#we'll use cciKit-learn to generate the confusion matrix\n",
    "from sklearn.metrics import confusion_matrix\n",
    "\n",
    "#set the model to evaluate mode\n",
    "model.eval()\n",
    "\n",
    "# Get predictions for the test data and convert to numpy arrays for use with scikit-learn\n",
    "print(\"Getting predictions from test set...\")\n",
    "truelabels = []\n",
    "predictions = []\n",
    "for data, target in test_loader:\n",
    "    for label in target.cpu().data.numpy():\n",
    "        truelabels.append(label)\n",
    "    for prediction in model.cpu()(data).data.numpy().argmax(1):\n",
    "        predictions.append(prediction) \n",
    "\n",
    "# Plot the confusion matrix\n",
    "cm = confusion_matrix(truelabels, predictions)\n",
    "plt.imshow(cm, interpolation=\"nearest\", cmap=plt.cm.Blues)\n",
    "plt.colorbar()\n",
    "tick_marks = np.arange(len(classes))\n",
    "plt.xticks(tick_marks, classes, rotation=45)\n",
    "plt.yticks(tick_marks, classes)\n",
    "plt.xlabel(\"Predicted Shape\")\n",
    "plt.ylabel(\"Actual Shape\")\n",
    "plt.show()"
   ]
  },
  {
   "cell_type": "markdown",
   "id": "322b9e98",
   "metadata": {},
   "source": [
    "We saw that the model had an accuracy of 100% so the result of the confusion matrix is not surprising!\n",
    "\n",
    "## Save the Trained model\n",
    "\n",
    "Now we can save the model for later use."
   ]
  },
  {
   "cell_type": "code",
   "execution_count": 17,
   "id": "2928c5f3",
   "metadata": {},
   "outputs": [
    {
     "name": "stdout",
     "output_type": "stream",
     "text": [
      "model saved as models/shape_classifier.pt\n"
     ]
    }
   ],
   "source": [
    "# Save the model weights\n",
    "model_file = 'models/shape_classifier.pt'\n",
    "torch.save(model.state_dict(), model_file)\n",
    "del model\n",
    "print('model saved as', model_file)"
   ]
  },
  {
   "cell_type": "markdown",
   "id": "d71c274b",
   "metadata": {},
   "source": [
    "## Use the trained model\n",
    "\n",
    "Finally, we can use the trained model to predict classes for new images (which we can generate using Python!)."
   ]
  },
  {
   "cell_type": "code",
   "execution_count": 24,
   "id": "faf70f4b",
   "metadata": {},
   "outputs": [
    {
     "name": "stdout",
     "output_type": "stream",
     "text": [
      "triangle\n"
     ]
    },
    {
     "data": {
      "image/png": "[encoded data removed]",
      "text/plain": [
       "<Figure size 432x288 with 1 Axes>"
      ]
     },
     "metadata": {
      "needs_background": "light"
     },
     "output_type": "display_data"
    }
   ],
   "source": [
    "#Import these packages again so we don't have to scroll up to the top if we forget to run that cell.\n",
    "import matplotlib.pyplot as plt\n",
    "import os\n",
    "from random import randint\n",
    "%matplotlib inline\n",
    "\n",
    "\n",
    "#predictor function\n",
    "def predict_image(classifier, image):\n",
    "    import numpy\n",
    "    \n",
    "    #set the model to evaluation mode\n",
    "    classifier.eval()\n",
    "    \n",
    "    #we need to apply the same transformations that we did to the training images\n",
    "    transformation = transforms.Compose([\n",
    "        transforms.ToTensor(),\n",
    "        transforms.Normalize(mean=[0.5, 0.5, 0.5], std=[0.5, 0.5, 0.5])\n",
    "    ])\n",
    "\n",
    "    # Preprocess the image\n",
    "    image_tensor = transformation(image).float()\n",
    "\n",
    "    # Add an extra batch dimension since pytorch treats all inputs as batches\n",
    "    image_tensor = image_tensor.unsqueeze_(0)\n",
    "\n",
    "    # Turn the input into a Variable\n",
    "    input_features = Variable(image_tensor)\n",
    "\n",
    "    # Predict the class of the image\n",
    "    output = classifier(input_features)\n",
    "    index = output.data.numpy().argmax()\n",
    "    return index\n",
    "\n",
    "\n",
    "# Function to create a random image (of a square, circle, or triangle)\n",
    "def create_image (size, shape):\n",
    "    from random import randint\n",
    "    import numpy as np\n",
    "    from PIL import Image, ImageDraw\n",
    "    \n",
    "    xy1 = randint(10,40)\n",
    "    xy2 = randint(60,100)\n",
    "    col = (randint(0,200), randint(0,200), randint(0,200))\n",
    "\n",
    "    img = Image.new(\"RGB\", size, (255, 255, 255))\n",
    "    draw = ImageDraw.Draw(img)\n",
    "    \n",
    "    if shape == 'circle':\n",
    "        draw.ellipse([(xy1,xy1), (xy2,xy2)], fill=col)\n",
    "    elif shape == 'triangle':\n",
    "        draw.polygon([(xy1,xy1), (xy2,xy2), (xy2,xy1)], fill=col)\n",
    "    else: # square\n",
    "        draw.rectangle([(xy1,xy1), (xy2,xy2)], fill=col)\n",
    "    del draw\n",
    "    \n",
    "    return np.array(img)\n",
    "\n",
    "# Create a random test image\n",
    "classnames = os.listdir(os.path.join('data', 'shapes'))\n",
    "classnames.sort()\n",
    "shape = classnames[randint(0, len(classnames)-1)]\n",
    "img = create_image ((128,128), shape)\n",
    "\n",
    "# Display the image\n",
    "plt.axis('off')\n",
    "plt.imshow(img)\n",
    "\n",
    "# Create a new model class and load the saved weights\n",
    "model = Neural_Net()\n",
    "model.load_state_dict(torch.load(model_file))\n",
    "\n",
    "# Call the predction function\n",
    "index = predict_image(model, img)\n",
    "print(classes[index])"
   ]
  },
  {
   "cell_type": "code",
   "execution_count": null,
   "id": "036de9ec",
   "metadata": {},
   "outputs": [],
   "source": []
  }
 ],
 "metadata": {
  "kernelspec": {
   "display_name": "Python 3 (ipykernel)",
   "language": "python",
   "name": "python3"
  },
  "language_info": {
   "codemirror_mode": {
    "name": "ipython",
    "version": 3
   },
   "file_extension": ".py",
   "mimetype": "text/x-python",
   "name": "python",
   "nbconvert_exporter": "python",
   "pygments_lexer": "ipython3",
   "version": "3.7.6"
  }
 },
 "nbformat": 4,
 "nbformat_minor": 5
}
