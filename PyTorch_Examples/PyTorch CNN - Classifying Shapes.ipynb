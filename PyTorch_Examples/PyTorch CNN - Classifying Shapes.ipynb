{
 "cells": [
  {
   "cell_type": "markdown",
   "id": "bec06d9e",
   "metadata": {},
   "source": [
    "# Classifying Shapes\n",
    "\n",
    "In this notebook I build a convolutional neural network using PyTorch and train it to classify images of circles, squares and triangles. Whilst writing this I am learning to build machine learning models on Microsoft Azure and this notebook is based on examples from that course."
   ]
  },
  {
   "cell_type": "code",
   "execution_count": 1,
   "id": "70ddb7a1",
   "metadata": {},
   "outputs": [
    {
     "name": "stdout",
     "output_type": "stream",
     "text": [
      "Libraries imported - ready to use PyTorch 1.9.0+cpu\n"
     ]
    }
   ],
   "source": [
    "# Import necessary libraries\n",
    "import numpy as np\n",
    "import os\n",
    "import matplotlib.pyplot as plt\n",
    "import matplotlib.image as mpimg\n",
    "%matplotlib inline\n",
    "\n",
    "import torch\n",
    "import torchvision\n",
    "import torchvision.transforms as transforms\n",
    "import torch.nn as nn\n",
    "import torch.optim as optim\n",
    "from torch.autograd import Variable\n",
    "import torch.nn.functional as F\n",
    "\n",
    "print(\"Libraries imported - ready to use PyTorch\", torch.__version__)"
   ]
  },
  {
   "cell_type": "markdown",
   "id": "d2c1cb1d",
   "metadata": {},
   "source": [
    "## Data Exploration\n",
    "\n",
    "With the necessary packages imported we can explore the data by examining the classes and plotting some examples."
   ]
  },
  {
   "cell_type": "code",
   "execution_count": 7,
   "id": "3143e3a5",
   "metadata": {},
   "outputs": [
    {
     "name": "stdout",
     "output_type": "stream",
     "text": [
      "3 classes:\n",
      "['circle', 'square', 'triangle']\n"
     ]
    },
    {
     "data": {
      "image/png": "[encoded data removed]",
      "text/plain": [
       "<Figure size 720x720 with 3 Axes>"
      ]
     },
     "metadata": {
      "needs_background": "light"
     },
     "output_type": "display_data"
    }
   ],
   "source": [
    "#Use the names of the directories as the class names\n",
    "data_path = 'data/shapes'\n",
    "classes = os.listdir(data_path)\n",
    "classes.sort()\n",
    "print(len(classes), 'classes:')\n",
    "print(classes)\n",
    "\n",
    "#Plot an example from each class\n",
    "fig = plt.figure(figsize=(10, 10))\n",
    "i = 0\n",
    "for sub_dir in os.listdir(data_path):\n",
    "    i+=1\n",
    "    image_file_name = os.listdir(os.path.join(data_path,sub_dir))[0]\n",
    "    image_path = os.path.join(data_path, sub_dir, image_file_name)\n",
    "    img = mpimg.imread(image_path)\n",
    "    a=fig.add_subplot(1, len(classes),i)\n",
    "    imgplot = plt.imshow(img)\n",
    "    a.set_title(image_file_name)\n",
    "plt.show()"
   ]
  },
  {
   "cell_type": "markdown",
   "id": "635f8b85",
   "metadata": {},
   "source": [
    "## Preparing the Data\n",
    "\n",
    "Now we will define a function that makes use of PyTorch's loading functions. The images need to be transformed into tensors to be used by PyTorch. We can also use this as an opportunity for feature scaling, and will scale the pixel values to have a mean of 0.5 and standard deviation also of 0.5."
   ]
  },
  {
   "cell_type": "code",
   "execution_count": 8,
   "id": "7613a244",
   "metadata": {},
   "outputs": [
    {
     "name": "stdout",
     "output_type": "stream",
     "text": [
      "Data loading functions ready\n"
     ]
    }
   ],
   "source": [
    "# Function to ingest data using training and test loaders\n",
    "def load_dataset(data_path):\n",
    "    # Load all of the images\n",
    "    transformation = transforms.Compose([\n",
    "        #transform the images to tensors\n",
    "        transforms.ToTensor(),\n",
    "        #Normalise the pixel values (in R, G, and B channels)\n",
    "        transforms.Normalize(mean=[0.5, 0.5, 0.5], std=[0.5, 0.5, 0.5])\n",
    "    ])\n",
    "\n",
    "    #Load all of the images, transforming them\n",
    "    full_dataset = torchvision.datasets.ImageFolder(\n",
    "        root=data_path,\n",
    "        transform=transformation\n",
    "    )\n",
    "    \n",
    "    \n",
    "    #Split into training (70%) and test (30%) datasets\n",
    "    train_size = int(0.7 * len(full_dataset))\n",
    "    test_size = len(full_dataset) - train_size\n",
    "    train_dataset, test_dataset = torch.utils.data.random_split(full_dataset, [train_size, test_size])\n",
    "    \n",
    "    #define a loader for the training data we can iterate through in 50-image batches\n",
    "    train_loader = torch.utils.data.DataLoader(\n",
    "        train_dataset,\n",
    "        batch_size=50,\n",
    "        num_workers=0,\n",
    "        shuffle=False\n",
    "    )\n",
    "    \n",
    "    #now the same for the test data\n",
    "    test_loader = torch.utils.data.DataLoader(\n",
    "        test_dataset,\n",
    "        batch_size=50,\n",
    "        num_workers=0,\n",
    "        shuffle=False\n",
    "    )\n",
    "        \n",
    "    return train_loader, test_loader\n",
    "\n",
    "\n",
    "#Call the loading functions\n",
    "train_loader, test_loader = load_dataset(data_path)\n",
    "print('Data loading functions ready')"
   ]
  },
  {
   "cell_type": "markdown",
   "id": "963a203a",
   "metadata": {},
   "source": [
    "## Define the CNN\n",
    "\n",
    "Now we will define the neural network model as a class derived from PyTorch's nn.Module class. In the CNN model, the \\textbf{kernal_size} parameter determines the size of the convolutional kernel or filter, \\textbf{stride} determines the step size or the number of pixels the kernel moves at each step during the convolution operation and \\textbf{padding} is used to preserve the spatial dimensions of the input after convolution."
   ]
  },
  {
   "cell_type": "code",
   "execution_count": 9,
   "id": "ea6b89f5",
   "metadata": {},
   "outputs": [],
   "source": [
    "class Neural_Net(nn.Module):\n",
    "    #construct the network\n",
    "    def __init__(self, num_classes=3):\n",
    "        super(Net, self).__init__()\n",
    "        \n",
    "        #As the images are RGB, we need 3 input channels. We'll apply 12 filters in the first convolutional layer\n",
    "        self.conv1 = nn.Conv2d(in_channels=3, out_channels=12, kernel_size=3, stride=1, padding=1)\n",
    "        \n",
    "        #We'll apply max pooling to pick out the most prominent features, using a kernel size of 2.\n",
    "        self.pool = nn.MaxPool2d(kernel_size=2)\n",
    "        \n",
    "        #The next layer will take 12 input channels and generate 12 outputs, using a kernal size of 3.\n",
    "        self.conv2 = nn.Conv2d(in_channels=12, out_channels=12, kernel_size=3, stride=1, padding=1)\n",
    "        \n",
    "        #We'll add a third layer that takes 12 inputs and this time generate 24 outputs\n",
    "        self.conv3 = nn.Conv2d(in_channels=12, out_channels=24, kernel_size=3, stride=1, padding=1)\n",
    "        \n",
    "        #The drop layer deletes 20% of the features which helps prevent overfitting\n",
    "        self.drop = nn.Dropout2d(p=0.2)\n",
    "        \n",
    "        # Our 128x128 image tensors will be pooled twice with a kernel size of 2. 128/2/2 is 32.\n",
    "        # So our feature tensors are now 32 x 32, and we've generated 24 of them\n",
    "        # We need to flatten these and feed them to a fully-connected layer\n",
    "        # to map them to the probability for each class\n",
    "        self.fc = nn.Linear(in_features=32 * 32 * 24, out_features=num_classes)\n",
    "\n",
    "    def forward(self, x):\n",
    "        # Use a relu activation function after layer 1 (convolution 1 and pool)\n",
    "        x = F.relu(self.pool(self.conv1(x)))\n",
    "      \n",
    "        # Use a relu activation function after layer 2 (convolution 2 and pool)\n",
    "        x = F.relu(self.pool(self.conv2(x)))\n",
    "        \n",
    "        # Select some features to drop after the 3rd convolution to prevent overfitting\n",
    "        x = F.relu(self.drop(self.conv3(x)))\n",
    "        \n",
    "        # Only drop the features if this is a training pass\n",
    "        x = F.dropout(x, training=self.training)\n",
    "        \n",
    "        # Flatten\n",
    "        x = x.view(-1, 32 * 32 * 24)\n",
    "        # Feed to fully-connected layer to predict class\n",
    "        x = self.fc(x)\n",
    "        # Return log_softmax tensor \n",
    "        return F.log_softmax(x, dim=1)"
   ]
  },
  {
   "cell_type": "markdown",
   "id": "3647b7e0",
   "metadata": {},
   "source": [
    "## Train the model"
   ]
  },
  {
   "cell_type": "code",
   "execution_count": null,
   "id": "0eae0681",
   "metadata": {},
   "outputs": [],
   "source": []
  },
  {
   "cell_type": "code",
   "execution_count": null,
   "id": "6c41e7e0",
   "metadata": {},
   "outputs": [],
   "source": []
  }
 ],
 "metadata": {
  "kernelspec": {
   "display_name": "Python 3 (ipykernel)",
   "language": "python",
   "name": "python3"
  },
  "language_info": {
   "codemirror_mode": {
    "name": "ipython",
    "version": 3
   },
   "file_extension": ".py",
   "mimetype": "text/x-python",
   "name": "python",
   "nbconvert_exporter": "python",
   "pygments_lexer": "ipython3",
   "version": "3.7.6"
  }
 },
 "nbformat": 4,
 "nbformat_minor": 5
}
