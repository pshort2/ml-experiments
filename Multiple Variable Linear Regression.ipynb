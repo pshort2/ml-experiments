{
 "cells": [
  {
   "cell_type": "markdown",
   "id": "deb80df2",
   "metadata": {},
   "source": [
    "# Multiple Variable Linear Regression\n",
    "\n",
    "Here we try linear regression with multiple variables."
   ]
  },
  {
   "cell_type": "code",
   "execution_count": 143,
   "id": "2f8fe0a4",
   "metadata": {},
   "outputs": [],
   "source": [
    "import copy, math\n",
    "import numpy as np\n",
    "%matplotlib inline\n",
    "import matplotlib.pyplot as plt"
   ]
  },
  {
   "cell_type": "markdown",
   "id": "6ab7e2e7",
   "metadata": {},
   "source": [
    "We will create a synthetic data set that follows a relation $y = w_1x_1 + w_2x_2 + w_3x_3 + b$\n",
    "\n",
    "or $\\mathbf{y} = \\mathbf{w} \\cdot \\mathbf{x} + b $\n",
    "\n"
   ]
  },
  {
   "cell_type": "code",
   "execution_count": 173,
   "id": "4e26ce5a",
   "metadata": {
    "scrolled": true
   },
   "outputs": [
    {
     "data": {
      "image/png": "[encoded data removed]",
      "text/plain": [
       "<Figure size 648x216 with 3 Axes>"
      ]
     },
     "metadata": {
      "needs_background": "light"
     },
     "output_type": "display_data"
    }
   ],
   "source": [
    "x1 = np.arange(0, 11, 1)\n",
    "x2 = np.arange(42, 103, 6)\n",
    "x3 = np.arange(0.5, 1.6, 0.1)\n",
    "X_t = np.array([x1, x2, x3])\n",
    "\n",
    "true_b = 5\n",
    "w1, w2, w3 = 7, 0.9, 60\n",
    "true_W = np.array([w1, w2, w3])\n",
    "\n",
    "y_t = np.dot(true_W, X_t) + true_b\n",
    "\n",
    "#Plot the training data to see what it looks like\n",
    "plt.subplots(nrows=1, ncols=2, figsize=(9,3))\n",
    "\n",
    "plt.subplot(1, 3, 1)\n",
    "plt.scatter(X_t[0,:], y_t)\n",
    "plt.title('x1')\n",
    "\n",
    "plt.subplot(1, 3, 2)\n",
    "plt.scatter(X_t[1,:], y_t)\n",
    "plt.title('x2')\n",
    "\n",
    "plt.subplot(1, 3, 3)\n",
    "plt.scatter(X_t[2,:], y_t)\n",
    "plt.title('x3')\n",
    "plt.show()"
   ]
  },
  {
   "cell_type": "markdown",
   "id": "e452535a",
   "metadata": {},
   "source": [
    "Now we will pretend we don't know the true values of W and b, and set some initial estimates."
   ]
  },
  {
   "cell_type": "code",
   "execution_count": 176,
   "id": "c069f3e1",
   "metadata": {},
   "outputs": [],
   "source": [
    "b_init = 0\n",
    "w_init = np.array([0, 0, 0])"
   ]
  },
  {
   "cell_type": "markdown",
   "id": "a72c5e5d",
   "metadata": {},
   "source": [
    "Now we will set up a function to calculate the cost:\n",
    "\n",
    "$$J(\\mathbf{w},b) = \\frac{1}{2m} \\sum\\limits_{i = 0}^{m-1} (f_{\\mathbf{w},b}(\\mathbf{x}^{(i)}) - y^{(i)})^2 \\tag{3}$$ \n",
    "where:\n",
    "$$ f_{\\mathbf{w},b}(\\mathbf{x}^{(i)}) = \\mathbf{w} \\cdot \\mathbf{x}^{(i)} + b  \\tag{4} $$ "
   ]
  },
  {
   "cell_type": "code",
   "execution_count": 177,
   "id": "b714ed8b",
   "metadata": {},
   "outputs": [],
   "source": [
    "def cost(X, y, w, b):\n",
    "  \n",
    "    m = X.shape[0]\n",
    "    f_wb = np.dot(np.transpose(X), w) + b\n",
    "    cost = np.dot((f_wb - y), (f_wb - y)) / (2 * m)\n",
    "    \n",
    "    return cost"
   ]
  },
  {
   "cell_type": "code",
   "execution_count": 178,
   "id": "14141b1a",
   "metadata": {},
   "outputs": [
    {
     "name": "stdout",
     "output_type": "stream",
     "text": [
      "55998.50666666666\n"
     ]
    }
   ],
   "source": [
    "# Compute and display cost using our pre-chosen optimal parameters. \n",
    "\n",
    "cost_v = cost(X_t, y_t, w_init, b_init)\n",
    "print(cost_v)"
   ]
  },
  {
   "cell_type": "markdown",
   "id": "2a0cc877",
   "metadata": {},
   "source": [
    "# Gradient Descent\n",
    "We will use the following to perform gradient descent:\n",
    "\n",
    "$$\\begin{align*} \\newline\\;\n",
    "& w_j = w_j -  \\alpha \\frac{\\partial J(\\mathbf{w},b)}{\\partial w_j}  \\; \\newline\n",
    "&b\\ \\ = b -  \\alpha \\frac{\\partial J(\\mathbf{w},b)}{\\partial b}  \\newline\n",
    "\\end{align*}$$\n",
    "\n",
    "\n",
    "$$\n",
    "\\begin{align}\n",
    "\\frac{\\partial J(\\mathbf{w},b)}{\\partial w_j}  &= \\frac{1}{m} \\sum\\limits_{i = 0}^{m-1} (f_{\\mathbf{w},b}(\\mathbf{x}^{(i)}) - y^{(i)})x_{j}^{(i)} \\\\\n",
    "\\frac{\\partial J(\\mathbf{w},b)}{\\partial b}  &= \\frac{1}{m} \\sum\\limits_{i = 0}^{m-1} (f_{\\mathbf{w},b}(\\mathbf{x}^{(i)}) - y^{(i)})\n",
    "\\end{align}\n",
    "$$\n",
    "\n",
    "This is implemented in the following function:"
   ]
  },
  {
   "cell_type": "code",
   "execution_count": 181,
   "id": "40e03118",
   "metadata": {},
   "outputs": [],
   "source": [
    "def grad(X, y, w, b):\n",
    "\n",
    "    m = X.shape[0]\n",
    "    err = np.dot(np.transpose(X), w) + b - y\n",
    "    dj_dw = np.dot(X, err) / m\n",
    "    dj_db = np.sum(err) / m\n",
    "    \n",
    "    return dj_db, dj_dw\n",
    "    "
   ]
  },
  {
   "cell_type": "code",
   "execution_count": 183,
   "id": "15a3693d",
   "metadata": {},
   "outputs": [
    {
     "name": "stdout",
     "output_type": "stream",
     "text": [
      "dj_db at initial w,b: -604.2666666666667\n",
      "dj_dw at initial w,b: \n",
      " [ -3696.         -47555.2          -671.73333333]\n"
     ]
    }
   ],
   "source": [
    "#Compute and display initial gradient \n",
    "tmp_dj_db, tmp_dj_dw = grad(X_t, y_t, w_init, b_init)\n",
    "print(f'dj_db at initial w,b: {tmp_dj_db}')\n",
    "print(f'dj_dw at initial w,b: \\n {tmp_dj_dw}')"
   ]
  },
  {
   "cell_type": "markdown",
   "id": "da95902d",
   "metadata": {},
   "source": [
    "<a name=\"toc_15456_5.2\"></a>\n",
    "## 5.2 Gradient Descent With Multiple Variables\n",
    "The routine below implements equation (5) above."
   ]
  },
  {
   "cell_type": "code",
   "execution_count": 201,
   "id": "69e0b218",
   "metadata": {},
   "outputs": [],
   "source": [
    "def gradient_descent(X, y, w_in, b_in, cost_function, gradient_function, alpha, num_iters): \n",
    "        \n",
    "    # An array to store cost J at each iteration\n",
    "    J_hist = []\n",
    "    w = copy.deepcopy(w_in)  #avoid modifying global w within function\n",
    "    b = b_in\n",
    "    \n",
    "    for i in range(num_iters):\n",
    "\n",
    "        # Calculate the gradient and update the parameters\n",
    "        dj_db,dj_dw = grad(X, y, w, b)\n",
    "\n",
    "        # Update Parameters using w, b, alpha and gradient\n",
    "        w = w - alpha * dj_dw\n",
    "        b = b - alpha * dj_db\n",
    "      \n",
    "        # Save cost J at each iteration\n",
    "        if i<100000:      # prevent resource exhaustion \n",
    "            J_hist.append(cost(X, y, w, b))\n",
    "\n",
    "        # Print cost every at intervals 10 times or as many iterations if < 10\n",
    "        if i% math.ceil(num_iters / 10) == 0:\n",
    "            print(f\"Iteration {i:4d}: Cost {J_hist[-1]:8.2f}   \")\n",
    "        \n",
    "    return w, b, J_hist "
   ]
  },
  {
   "cell_type": "markdown",
   "id": "acabefab",
   "metadata": {},
   "source": [
    "Now we implement gradient descent:"
   ]
  },
  {
   "cell_type": "code",
   "execution_count": 202,
   "id": "9efc9a98",
   "metadata": {},
   "outputs": [
    {
     "name": "stdout",
     "output_type": "stream",
     "text": [
      "Iteration    0: Cost 55964.37   \n",
      "Iteration 1000: Cost 30460.99   \n",
      "Iteration 2000: Cost 16654.26   \n",
      "Iteration 3000: Cost  9179.71   \n",
      "Iteration 4000: Cost  5133.18   \n",
      "Iteration 5000: Cost  2942.48   \n",
      "Iteration 6000: Cost  1756.44   \n",
      "Iteration 7000: Cost  1114.30   \n",
      "Iteration 8000: Cost   766.62   \n",
      "Iteration 9000: Cost   578.33   \n",
      "b,w found by gradient descent: 0.03,[0.18168619 2.21637091 0.0315764 ] \n",
      "prediction: 93.13018183260209, target value: 72.80000000000001\n",
      "prediction: 106.61325110338687, target value: 91.2\n",
      "prediction: 120.09632037417164, target value: 109.6\n"
     ]
    }
   ],
   "source": [
    "# initialize parameters\n",
    "initial_w = np.zeros_like(w_init)\n",
    "initial_b = 0.\n",
    "# some gradient descent settings\n",
    "iterations = 10000\n",
    "alpha = 1.5e-8\n",
    "# run gradient descent \n",
    "w_final, b_final, J_hist = gradient_descent(X_t, y_t, initial_w, initial_b,\n",
    "                                            cost, grad, alpha, iterations)\n",
    "print(f\"b,w found by gradient descent: {b_final:0.2f},{w_final} \")\n",
    "m,_ = X_t.shape\n",
    "for i in range(m):\n",
    "    print(f\"prediction: {np.dot(np.transpose(X_t[:,i]), w_final) + b_final}, target value: {y_t[i]}\")"
   ]
  },
  {
   "cell_type": "code",
   "execution_count": 203,
   "id": "de6aebf6",
   "metadata": {},
   "outputs": [
    {
     "data": {
      "image/png": "[encoded data removed]",
      "text/plain": [
       "<Figure size 864x288 with 2 Axes>"
      ]
     },
     "metadata": {
      "needs_background": "light"
     },
     "output_type": "display_data"
    }
   ],
   "source": [
    "# plot cost versus iteration  \n",
    "fig, (ax1, ax2) = plt.subplots(1, 2, constrained_layout=True, figsize=(12, 4))\n",
    "ax1.plot(J_hist)\n",
    "ax2.plot(100 + np.arange(len(J_hist[100:])), J_hist[100:])\n",
    "ax1.set_title(\"Cost vs. iteration\");  ax2.set_title(\"Cost vs. iteration (tail)\")\n",
    "ax1.set_ylabel('Cost')             ;  ax2.set_ylabel('Cost') \n",
    "ax1.set_xlabel('iteration step')   ;  ax2.set_xlabel('iteration step') \n",
    "plt.show()"
   ]
  },
  {
   "cell_type": "markdown",
   "id": "a1f5f1f4",
   "metadata": {},
   "source": [
    "At the moment we are struggling to get the cost to converge. To improve the algorithm we can use feature scaling. We'll try mean normalisation, which is given by: $x_i := \\dfrac{x_i - \\mu_i}{max - min}$"
   ]
  },
  {
   "cell_type": "code",
   "execution_count": 204,
   "id": "2a2bf48e",
   "metadata": {},
   "outputs": [
    {
     "name": "stdout",
     "output_type": "stream",
     "text": [
      "[[-0.5 -0.4 -0.3 -0.2 -0.1  0.   0.1  0.2  0.3  0.4  0.5]\n",
      " [-0.5 -0.4 -0.3 -0.2 -0.1  0.   0.1  0.2  0.3  0.4  0.5]\n",
      " [-0.5 -0.4 -0.3 -0.2 -0.1  0.   0.1  0.2  0.3  0.4  0.5]]\n"
     ]
    }
   ],
   "source": [
    "#Initialise normalised X\n",
    "X_norm_t = np.zeros(np.shape(X_t))\n",
    "\n",
    "for i in range(len(X_t)):\n",
    "\n",
    "    xi = X_t[i,:]\n",
    "    norm_xi = (xi - np.mean(xi))/(np.max(xi)-np.min(xi))\n",
    "    X_norm_t[i,:] = norm_xi\n",
    "\n",
    "\n",
    "print(X_norm_t)\n"
   ]
  },
  {
   "cell_type": "code",
   "execution_count": 205,
   "id": "718053e5",
   "metadata": {},
   "outputs": [
    {
     "name": "stdout",
     "output_type": "stream",
     "text": [
      "Iteration    0: Cost  3284.21   \n",
      "Iteration   20: Cost     0.00   \n",
      "Iteration   40: Cost     0.00   \n",
      "Iteration   60: Cost     0.00   \n",
      "Iteration   80: Cost     0.00   \n",
      "Iteration  100: Cost     0.00   \n",
      "Iteration  120: Cost     0.00   \n",
      "Iteration  140: Cost     0.00   \n",
      "Iteration  160: Cost     0.00   \n",
      "Iteration  180: Cost     0.00   \n",
      "b,w found by gradient descent: 164.80,[61.33333333 61.33333333 61.33333333] \n",
      "prediction: 72.80000000000003, target value: 72.80000000000001\n",
      "prediction: 91.20000000000002, target value: 91.2\n",
      "prediction: 109.60000000000002, target value: 109.6\n"
     ]
    }
   ],
   "source": [
    "#Now re-run gradient descent with the normalised inputs\n",
    "# initialize parameters\n",
    "initial_w = np.zeros_like(w_init)\n",
    "initial_b = 0.\n",
    "# some gradient descent settings\n",
    "iterations = 200\n",
    "alpha = 3e-1\n",
    "# run gradient descent \n",
    "w_final, b_final, J_hist = gradient_descent(X_norm_t, y_t, initial_w, initial_b,\n",
    "                                            cost, grad, alpha, iterations)\n",
    "print(f\"b,w found by gradient descent: {b_final:0.2f},{w_final} \")\n",
    "m,_ = X_t.shape\n",
    "for i in range(m):\n",
    "    print(f\"prediction: {np.dot(np.transpose(X_norm_t[:,i]), w_final) + b_final}, target value: {y_t[i]}\")"
   ]
  },
  {
   "cell_type": "markdown",
   "id": "111dd2c3",
   "metadata": {},
   "source": [
    "It looks like our predictions are better. Let's see how the cost varies with each iteration."
   ]
  },
  {
   "cell_type": "code",
   "execution_count": 206,
   "id": "75c51325",
   "metadata": {},
   "outputs": [
    {
     "data": {
      "image/png": "[encoded data removed]",
      "text/plain": [
       "<Figure size 864x288 with 2 Axes>"
      ]
     },
     "metadata": {
      "needs_background": "light"
     },
     "output_type": "display_data"
    }
   ],
   "source": [
    "# plot cost versus iteration  \n",
    "fig, (ax1, ax2) = plt.subplots(1, 2, constrained_layout=True, figsize=(12, 4))\n",
    "ax1.plot(J_hist)\n",
    "ax2.plot(100 + np.arange(len(J_hist[100:])), J_hist[100:])\n",
    "ax1.set_title(\"Cost vs. iteration\");  ax2.set_title(\"Cost vs. iteration (tail)\")\n",
    "ax1.set_ylabel('Cost')             ;  ax2.set_ylabel('Cost') \n",
    "ax1.set_xlabel('iteration step')   ;  ax2.set_xlabel('iteration step') \n",
    "plt.show()"
   ]
  },
  {
   "cell_type": "markdown",
   "id": "ac630034",
   "metadata": {},
   "source": [
    "Now gradient descent converges and does so much faster, allowing us to use a larger $alpha$."
   ]
  },
  {
   "cell_type": "code",
   "execution_count": 208,
   "id": "c43323cd",
   "metadata": {},
   "outputs": [
    {
     "data": {
      "image/png": "[encoded data removed]",
      "text/plain": [
       "<Figure size 648x216 with 3 Axes>"
      ]
     },
     "metadata": {
      "needs_background": "light"
     },
     "output_type": "display_data"
    }
   ],
   "source": [
    "#Plot the normalised training data with the model superimposed\n",
    "plt.subplots(nrows=1, ncols=3, figsize=(9,3))\n",
    "\n",
    "y_predicted = np.dot(np.transpose(X_norm_t), w_final) + b_final\n",
    "\n",
    "x1_norm = X_norm_t[0,:]\n",
    "plt.subplot(1, 3, 1)\n",
    "plt.scatter(x1_norm, y_t)\n",
    "plt.plot(x1_norm, y_predicted, color = 'red')\n",
    "plt.title('x1')\n",
    "\n",
    "x2_norm = X_norm_t[1,:]\n",
    "plt.subplot(1, 3, 2)\n",
    "plt.scatter(x2_norm, y_t)\n",
    "plt.plot(x2_norm, y_predicted, color = 'red')\n",
    "plt.title('x2')\n",
    "\n",
    "x3_norm = X_norm_t[2,:]\n",
    "plt.subplot(1, 3, 3)\n",
    "plt.scatter(x3_norm, y_t)\n",
    "plt.plot(x3_norm, y_predicted,color = 'red')\n",
    "plt.title('x3')\n",
    "plt.show()"
   ]
  },
  {
   "cell_type": "code",
   "execution_count": null,
   "id": "d7c49e11",
   "metadata": {},
   "outputs": [],
   "source": []
  }
 ],
 "metadata": {
  "dl_toc_settings": {
   "rndtag": "15456"
  },
  "kernelspec": {
   "display_name": "Python 3 (ipykernel)",
   "language": "python",
   "name": "python3"
  },
  "language_info": {
   "codemirror_mode": {
    "name": "ipython",
    "version": 3
   },
   "file_extension": ".py",
   "mimetype": "text/x-python",
   "name": "python",
   "nbconvert_exporter": "python",
   "pygments_lexer": "ipython3",
   "version": "3.7.6"
  },
  "toc-autonumbering": false
 },
 "nbformat": 4,
 "nbformat_minor": 5
}
