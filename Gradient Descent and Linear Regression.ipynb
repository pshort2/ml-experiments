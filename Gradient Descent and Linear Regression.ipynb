{
 "cells": [
  {
   "cell_type": "markdown",
   "id": "89086e16",
   "metadata": {},
   "source": [
    "# Gradient Descent and Linear Regression"
   ]
  },
  {
   "cell_type": "markdown",
   "id": "d1717a8d",
   "metadata": {},
   "source": [
    "In this notebook we use gradient descent and linear regression to fit a straight line to some synthetic data. We will plot the cost against the iteration number and explore how things change when using different learning rates. \n",
    "\n",
    "First import the necessary libraries."
   ]
  },
  {
   "cell_type": "code",
   "execution_count": 1,
   "id": "3ecc95c5",
   "metadata": {},
   "outputs": [],
   "source": [
    "%matplotlib inline\n",
    "\n",
    "import numpy as np\n",
    "import matplotlib.pyplot as plt\n",
    "import math"
   ]
  },
  {
   "cell_type": "markdown",
   "id": "129c1b7d",
   "metadata": {},
   "source": [
    "Now we generate some synthetic training data with a linear correlation to train on:"
   ]
  },
  {
   "cell_type": "code",
   "execution_count": 3,
   "id": "0ac312f0",
   "metadata": {},
   "outputs": [
    {
     "name": "stdout",
     "output_type": "stream",
     "text": [
      "[ 0  1  2  3  4  5  6  7  8  9 10]\n",
      "[ 0.2  2.5  4.8  7.1  9.4 11.7 14.  16.3 18.6 20.9 23.2]\n"
     ]
    }
   ],
   "source": [
    "x_t = np.arange(0, 11, 1) #Generates array of x values from 0-10\n",
    "\n",
    "g = 2.3                 #g is the true slope\n",
    "c = 0.2                 #c is the true y-intercept\n",
    "\n",
    "y_t = g*x_t + c             #y is generated from x, g and c\n",
    "\n",
    "print(x_t)\n",
    "print(y_t)"
   ]
  },
  {
   "cell_type": "markdown",
   "id": "9a706de2",
   "metadata": {},
   "source": [
    "We now want to see if we can use gradient descent to fit a linear model to this data so we can correctly predict the value of y for any given x. \n",
    "\n",
    "The linear model we will use is: \n",
    "\n",
    "$$f_{w,b}(x^{(i)}) = wx^{(i)} + b \\tag{1}$$\n",
    "\n",
    "For a perfectly fitting model we should end up with w=g and b=c.\n",
    "\n",
    "The overall cost, J,  of our training samples is given by:\n",
    "\n",
    "$$J(w,b) = \\frac{1}{2m} \\sum\\limits_{i = 0}^{m-1} (f_{w,b}(x^{(i)}) - y^{(i)})^2\\tag{2}$$\n",
    "\n",
    "The following function calculates this value given our input data, w and b:"
   ]
  },
  {
   "cell_type": "code",
   "execution_count": 4,
   "id": "9e34a2dc",
   "metadata": {},
   "outputs": [],
   "source": [
    "def cost(x, y, w, b):\n",
    "\n",
    "    m = len(x)    #This is the number of training examples we have\n",
    "        \n",
    "    f_arr = w*x + b  #The output values of our model for each sample\n",
    "    cost_arr = (f_arr - y)**2  #The cost for each sample\n",
    "        \n",
    "    cost = (1/2*m) * np.sum(cost_arr)  #The total cost value is divided by 2 times the size of the data set\n",
    "    \n",
    "    return cost\n",
    "    "
   ]
  },
  {
   "cell_type": "markdown",
   "id": "74702505",
   "metadata": {},
   "source": [
    "Now we will use gradient descent to find the values of w and b which minimise the cost function. In gradient descent, we carry out the following operations untile we reach convergence, updating w and b simultaneously:\n",
    "\n",
    "$$\\begin{align*} \\; \\newline\n",
    "\\;  w &= w -  \\alpha \\frac{\\partial J(w,b)}{\\partial w}  \\; \\newline \n",
    " b &= b -  \\alpha \\frac{\\partial J(w,b)}{\\partial b}  \\newline\n",
    "\\end{align*}$$\n",
    "\n",
    "where $\\alpha$ is the learning rate.\n",
    "\n",
    "The partial derivatives of J with respect to w and b are the following:\n",
    "\n",
    "$$\n",
    "\\begin{align}\n",
    "\\frac{\\partial J(w,b)}{\\partial w}  &= \\frac{1}{m} \\sum\\limits_{i = 0}^{m-1} (f_{w,b}(x^{(i)}) - y^{(i)})x^{(i)} \\tag{4}\\\\\n",
    "  \\frac{\\partial J(w,b)}{\\partial b}  &= \\frac{1}{m} \\sum\\limits_{i = 0}^{m-1} (f_{w,b}(x^{(i)}) - y^{(i)}) \\tag{5}\\\\\n",
    "\\end{align}\n",
    "$$\n",
    "\n",
    "The following function calculates the gradient for a given training sample:"
   ]
  },
  {
   "cell_type": "code",
   "execution_count": 5,
   "id": "4fdc132b",
   "metadata": {},
   "outputs": [],
   "source": [
    "def gradient(x, y, w, b):\n",
    "    \n",
    "    m = len(x)\n",
    "    dJdw = 0  #partial deriviative with respect to w\n",
    "    dJdb = 0  #partial deriviative with respect to b\n",
    "\n",
    "    f_arr = w*x + b\n",
    "    dJdw = (f_arr - y)*x\n",
    "    dJdb = f_arr - y\n",
    "        \n",
    "    dJdw = (1/m) * np.sum(dJdw)\n",
    "    dJdb = (1/m) * np.sum(dJdb)\n",
    "    \n",
    "    return dJdw, dJdb"
   ]
  },
  {
   "cell_type": "markdown",
   "id": "2b656e6c",
   "metadata": {},
   "source": [
    "To test the above function we can input the correct values of w and b which we know because we used them to generate the data. The gradients should be equal to 0."
   ]
  },
  {
   "cell_type": "code",
   "execution_count": 8,
   "id": "40dc1db4",
   "metadata": {},
   "outputs": [
    {
     "name": "stdout",
     "output_type": "stream",
     "text": [
      "dJdw: 0.0 dJdb: 0.0\n"
     ]
    }
   ],
   "source": [
    "dJdw, dJdb = gradient(x_t, y_t, g, c)\n",
    "\n",
    "print('dJdw:', dJdw, 'dJdb:', dJdb)"
   ]
  },
  {
   "cell_type": "markdown",
   "id": "2b01e15f",
   "metadata": {},
   "source": [
    "Now we can implement gradient descent:"
   ]
  },
  {
   "cell_type": "code",
   "execution_count": 9,
   "id": "fcabd70a",
   "metadata": {},
   "outputs": [],
   "source": [
    "def grad_descent(x, y, w_in, b_in, alpha, n, cost, gradient):\n",
    "    \n",
    "    J_hist = []    #Stores J values for plotting\n",
    "    wb_hist = []   #Stores w and b values for plotting\n",
    "    \n",
    "    w = w_in #initialise w and b\n",
    "    b = b_in\n",
    "    \n",
    "    for i in range(n):  #n is the number of iterations\n",
    "        \n",
    "        #Calculate the gradients\n",
    "        dJdw, dJdb = gradient(x, y, w, b)\n",
    "        \n",
    "        #update w and b\n",
    "        w -= alpha*dJdw\n",
    "        b -= alpha*dJdb\n",
    "        \n",
    "        #Save cost values and w,b values for plotting, with limit on no. of iterations saved\n",
    "        if i < 100000:\n",
    "            J = cost(x, y, w, b)\n",
    "            J_hist.append(J)\n",
    "            wb_hist.append([w,b])\n",
    "        \n",
    "        # Print cost 10 times at equal intervals, or as many iterations if < 10\n",
    "        if i% math.ceil(n/10) == 0:\n",
    "            print(f\"Iteration {i:4}: Cost {J_hist[-1]:0.2e} \",\n",
    "                  f\"dj_dw: {dJdw: 0.3e}, dj_db: {dJdb: 0.3e}  \",\n",
    "                  f\"w: {w: 0.3e}, b:{b: 0.5e}\")\n",
    "            \n",
    "    return w, b, J_hist, wb_hist"
   ]
  },
  {
   "cell_type": "markdown",
   "id": "5f993a47",
   "metadata": {},
   "source": [
    "Now we will run the gradient descent function:"
   ]
  },
  {
   "cell_type": "code",
   "execution_count": 10,
   "id": "67fdcaad",
   "metadata": {},
   "outputs": [
    {
     "name": "stdout",
     "output_type": "stream",
     "text": [
      "Iteration    0: Cost 9.76e+04  dj_dw: -5.650e+01, dj_db:  1.330e+01   w: -7.175e+00, b: 7.43350e+01\n",
      "Iteration 1000: Cost 5.39e-08  dj_dw: -2.283e-06, dj_db:  1.585e-05   w:  2.300e+00, b: 2.00056e-01\n",
      "Iteration 2000: Cost 3.07e-20  dj_dw: -1.723e-12, dj_db:  1.197e-11   w:  2.300e+00, b: 2.00000e-01\n",
      "Iteration 3000: Cost 1.25e-28  dj_dw: -3.512e-15, dj_db: -2.776e-17   w:  2.300e+00, b: 2.00000e-01\n",
      "Iteration 4000: Cost 1.25e-28  dj_dw: -3.512e-15, dj_db: -2.776e-17   w:  2.300e+00, b: 2.00000e-01\n",
      "Iteration 5000: Cost 1.25e-28  dj_dw: -3.512e-15, dj_db: -2.776e-17   w:  2.300e+00, b: 2.00000e-01\n",
      "Iteration 6000: Cost 1.25e-28  dj_dw: -3.512e-15, dj_db: -2.776e-17   w:  2.300e+00, b: 2.00000e-01\n",
      "Iteration 7000: Cost 1.25e-28  dj_dw: -3.512e-15, dj_db: -2.776e-17   w:  2.300e+00, b: 2.00000e-01\n",
      "Iteration 8000: Cost 1.25e-28  dj_dw: -3.512e-15, dj_db: -2.776e-17   w:  2.300e+00, b: 2.00000e-01\n",
      "Iteration 9000: Cost 1.25e-28  dj_dw: -3.512e-15, dj_db: -2.776e-17   w:  2.300e+00, b: 2.00000e-01\n",
      "Final parameters: w = 2.300e+00, b = 2.00000e-01\n"
     ]
    }
   ],
   "source": [
    "#Initialise params\n",
    "w_in = -10\n",
    "b_in = 75\n",
    "\n",
    "#Set number of iterations, n, and learning rate, alpha\n",
    "n = 10000\n",
    "alpha = 0.05\n",
    "\n",
    "#run gradient descent!\n",
    "w_f, b_f, J_hist, wb_hist = grad_descent(x_t, y_t, w_in, b_in, alpha, n, cost, gradient)\n",
    "\n",
    "print(f'Final parameters: w = {w_f:0.3e}, b = {b_f:0.5e}')"
   ]
  },
  {
   "cell_type": "markdown",
   "id": "61025dd7",
   "metadata": {},
   "source": [
    "Setting n = 10000 and alpha = 0.01 produces exact matches to the true values of w and b (g and c). Changing the input values appears to makes little difference. Lowering alpha leads to w and b taking longer to converge, increasing alpha to greater than 0.05 makes it impossible for the values to converge.\n",
    "\n",
    "In the following cell we will plot how J varied with each iteration."
   ]
  },
  {
   "cell_type": "code",
   "execution_count": 11,
   "id": "8ad86635",
   "metadata": {},
   "outputs": [
    {
     "data": {
      "image/png": "[encoded data removed]",
      "text/plain": [
       "<Figure size 864x288 with 2 Axes>"
      ]
     },
     "metadata": {
      "needs_background": "light"
     },
     "output_type": "display_data"
    }
   ],
   "source": [
    "fig, (ax1, ax2) = plt.subplots(1, 2, constrained_layout=True, figsize=(12,4))\n",
    "ax1.plot(J_hist[:100])\n",
    "ax2.plot(1000 + np.arange(len(J_hist[1000:])), J_hist[1000:])\n",
    "ax1.set_title(\"Cost vs. iteration(start)\");  ax2.set_title(\"Cost vs. iteration (end)\")\n",
    "ax1.set_ylabel('Cost')            ;  ax2.set_ylabel('Cost') \n",
    "ax1.set_xlabel('iteration step')  ;  ax2.set_xlabel('iteration step') \n",
    "plt.show()"
   ]
  },
  {
   "cell_type": "markdown",
   "id": "fcd04a73",
   "metadata": {},
   "source": [
    "The following cell plots the progress of gradient descent over a contour plot."
   ]
  },
  {
   "cell_type": "code",
   "execution_count": 13,
   "id": "7ea7ae11",
   "metadata": {},
   "outputs": [
    {
     "data": {
      "text/plain": [
       "Text(0.5, 1.0, 'Contour plot of cost J(w,b), vs b,w with path of gradient descent')"
      ]
     },
     "execution_count": 13,
     "metadata": {},
     "output_type": "execute_result"
    },
    {
     "data": {
      "image/png": "[encoded data removed]",
      "text/plain": [
       "<Figure size 432x288 with 1 Axes>"
      ]
     },
     "metadata": {
      "needs_background": "light"
     },
     "output_type": "display_data"
    }
   ],
   "source": [
    "w_range =[-10, 15, 1]\n",
    "b_range=[-100, 100, 1]\n",
    "contours = [0.1,50,1000,5000,10000,25000,50000]\n",
    "step = 10\n",
    "resolution = 5\n",
    "\n",
    "#This section plots the contours\n",
    "b0,w0 = np.meshgrid(np.arange(*b_range),np.arange(*w_range))\n",
    "z=np.zeros_like(b0)\n",
    "\n",
    "for i in range(w0.shape[0]):\n",
    "    for j in range(w0.shape[1]):\n",
    "        z[i][j] = cost(x_t, y_t, w0[i][j], b0[i][j] )\n",
    "\n",
    "plt.contour(w0, b0, z, contours, linewidths=2,\n",
    "                   colors=['blue', 'orange', 'darkred', 'magenta', 'purple'])\n",
    "\n",
    "#This section plots the progression of the gradient descent\n",
    "base = wb_hist[0] #starting point for the progress track\n",
    "xlow, xhigh = plt.xlim()\n",
    "ylow, yhigh = plt.ylim()\n",
    "\n",
    "for point in wb_hist[0::step]:\n",
    "    ax, ay = point\n",
    "    bx, by = base\n",
    "    if (ax > xlow and ax < xhigh) and (bx > xlow and bx < xhigh) \\\n",
    "    and (ay > ylow and ay < yhigh) and (by > ylow and by < yhigh):\n",
    "        plt.annotate('', xy=point, xytext=base, xycoords='data',\n",
    "                         arrowprops={'arrowstyle': '->', 'color': 'r', 'lw': 1},\n",
    "                         va='center', ha='center')\n",
    "    base=point\n",
    "\n",
    "#Plot and axis titles\n",
    "plt.xlabel(\"w\");  plt.ylabel(\"b\")\n",
    "plt.title('Contour plot of cost J(w,b), vs b,w with path of gradient descent')"
   ]
  },
  {
   "cell_type": "code",
   "execution_count": null,
   "id": "8a8c80cc",
   "metadata": {},
   "outputs": [],
   "source": []
  }
 ],
 "metadata": {
  "kernelspec": {
   "display_name": "Python 3 (ipykernel)",
   "language": "python",
   "name": "python3"
  },
  "language_info": {
   "codemirror_mode": {
    "name": "ipython",
    "version": 3
   },
   "file_extension": ".py",
   "mimetype": "text/x-python",
   "name": "python",
   "nbconvert_exporter": "python",
   "pygments_lexer": "ipython3",
   "version": "3.7.6"
  }
 },
 "nbformat": 4,
 "nbformat_minor": 5
}
